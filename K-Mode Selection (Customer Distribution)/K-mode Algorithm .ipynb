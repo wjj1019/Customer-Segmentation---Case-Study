{
 "cells": [
  {
   "cell_type": "code",
   "execution_count": 2,
   "metadata": {},
   "outputs": [],
   "source": [
    "import numpy as np\n",
    "import pandas as pd\n",
    "import matplotlib.pyplot as plt\n",
    "from matplotlib import pyplot\n",
    "import seaborn as sns\n",
    "from functools import reduce\n",
    "from scipy import stats\n",
    "\n",
    "from kmodes.kmodes import KModes\n",
    "from sklearn.model_selection import train_test_split\n",
    "from sklearn.feature_selection import SelectKBest\n",
    "from sklearn.feature_selection import chi2\n",
    "\n",
    "\n",
    "# Feature selection - Use of Chi-squared as method of selection (Dataset consists of Categorical Variables)\n",
    "def select_features(X, y):\n",
    "    fs = SelectKBest(score_func=chi2, k='all')\n",
    "    fs.fit_transform(X, y)\n",
    "\n",
    "    return fs\n",
    "\n",
    "# Feature Selection Score Graph Visualization\n",
    "def selectK (features, predictor):\n",
    "    X = features\n",
    "    y = predictor\n",
    "    #Apply Feature Selection Function to the dataset \n",
    "    fs = select_features(X,y)\n",
    "    \n",
    "    #Printing Score\n",
    "    for i in range(len(fs.scores_)):\n",
    "        print('Feature %d: %f' % (i, fs.scores_[i]))\n",
    "        \n",
    "    #Plot Feature Selection Score\n",
    "    pyplot.bar([i for i in range(len(fs.scores_))], fs.scores_)\n",
    "    return pyplot.show()\n",
    "\n",
    "#Selecting Top 5 Features  \n",
    "def top5_features(fs, dataset):\n",
    "    \n",
    "    top_5_ind = []\n",
    "    for key, val in sorted(zip(fs.scores_,range(len(fs.scores_))), reverse=True):\n",
    "        top_5_ind.append([key, val])\n",
    "        top_5_ind = top_5_ind[:5]\n",
    "        \n",
    "    top_feat = {}\n",
    "    top_feat_ls = []\n",
    "    for i in range(len(top_5_ind)):\n",
    "        top_feat[dataset.columns[top_5_ind[i][1]]] = top_5_ind[i][0]\n",
    "        top_feat_ls.append(dataset.columns[top_5_ind[i][1]])\n",
    "        df = dataset[top_feat_ls]\n",
    "\n",
    "        print('Top5 Feature:{},{}'.format(dataset.columns[top_5_ind[i][1]], top_5_ind[i][0]))\n",
    "    \n",
    "    return df\n",
    "\n",
    "# Function that provides a Elbow Plot to illustrate the best K selection\n",
    "def k_mode (dataset, num_k):\n",
    "    cost = []\n",
    "    K = range(1,num_k) # will be looping  K = 1 -> 5\n",
    "    for num_clusters in list(K):\n",
    "        kmode = KModes(n_clusters=num_clusters, init = \"random\", n_init = 5, verbose=0)\n",
    "        kmode.fit_predict(dataset)\n",
    "        cost.append(kmode.cost_) #Cost Function for each K\n",
    "    \n",
    "    plt.plot(K, cost, 'bx-')\n",
    "    plt.xlabel('No. of clusters')\n",
    "    plt.ylabel('Cost')\n",
    "    plt.title('Elbow Method For Optimal k')\n",
    "    return plt.show()\n",
    "\n",
    "#When the optimal K is found, create a dataframe\n",
    "def k_mode_compute__(dataset,num_k):\n",
    "    kmode = KModes(n_clusters=num_k, init = \"random\", n_init = 5, verbose=0)\n",
    "    clusters = kmode.fit_predict(dataset)\n",
    "    a = pd.DataFrame(clusters)\n",
    "    \n",
    "    return a.iloc[:,0].value_counts().to_frame(), a.reset_index()\n",
    "  \n",
    "#Monte Carlo Simulation\n",
    "def simulation(input_dataframe, num_k, num_iteration):\n",
    "    freq = [] # Value_counts for n_clusters (Total No. of Samples for Each Cluster for Each iteration)\n",
    "    sample = [] # 5800 Samples with label- nth_Cluster\n",
    "    \n",
    "    for _ in range(0,num_iteration):\n",
    "        km = k_mode_compute__(input_dataframe,num_k)\n",
    "        freq.append(km[0])\n",
    "        sample.append(km[1])\n",
    "    \n",
    "    # combining Value_counts df for 100 simulation\n",
    "    data_frames = freq[:]\n",
    "    result = reduce(lambda df_left,df_right: pd.merge(df_left, df_right, \n",
    "                                            left_index=True, right_index=True, #on=['index'],\n",
    "                                            how='outer'),data_frames)\n",
    "    return freq, sample, result\n",
    "\n",
    "#Graphical Visualization of Simulation Result\n",
    "def monte_carlo_vis(simulation_result, nth_cluster):\n",
    "    #Normal Distribution Tranformation\n",
    "    data = simulation_result.iloc[nth_cluster].values\n",
    "    \n",
    "    fit_data, fit_lambda = stats.boxcox(data)\n",
    "    \n",
    "    mean = int(np.mean(data))\n",
    "    std = int(np.std(data))\n",
    "    \n",
    "    area = []\n",
    "    for ind, val  in enumerate(data):\n",
    "        if val in range(mean-std, mean+std):\n",
    "            area.append(ind)\n",
    "    \n",
    "    \n",
    "    original = sns.distplot(fit_data, hist = False, kde = True,\n",
    "            kde_kws = {'shade': True, 'linewidth': 2}, color =\"green\")\n",
    "    \n",
    "    near_mean = sns.distplot(fit_data[area], hist = False, kde = True,\n",
    "            kde_kws = {'shade': True, 'linewidth': 2}, color =\"red\")\n",
    "    \n",
    "    return original, near_mean\n",
    "\n",
    "# Finding the Opitmal Clustering Combination Obtained from the Simulation\n",
    "def optimal_cluster(simulation_result, sample):\n",
    "\n",
    "    cl1 = []\n",
    "    cl2 = []\n",
    "    cl3 = []\n",
    "    #Computing the Distance from the Mean (Finding the Optimal Cluster)\n",
    "    for i in simulation_result.iloc[0].values:\n",
    "        cl1.append(abs(i - simulation_result.iloc[0].mean()))\n",
    "    for j in simulation_result.iloc[1].values:\n",
    "        cl2.append(abs(j - simulation_result.iloc[1].mean()))\n",
    "    for k in simulation_result.iloc[2].values:\n",
    "        cl3.append(abs(k - simulation_result.iloc[2].mean()))\n",
    "    \n",
    "    final = zip(cl1,cl2,cl3)\n",
    "    final_ = [round(sum(item),2) for item in final]\n",
    "    \n",
    "    #Creating a Dataframe (Opitmal Cluster)\n",
    "    best_val = sample[np.where(min(final_)== final_)[0][0]][0].value_counts()\n",
    "    best_sample = sample[np.where(min(final_)== final_)[0][0]]\n",
    "    \n",
    "    return best_val, best_sample"
   ]
  },
  {
   "cell_type": "markdown",
   "metadata": {},
   "source": [
    "# K-Mode Functions"
   ]
  },
  {
   "cell_type": "markdown",
   "metadata": {},
   "source": [
    "## Importing Data"
   ]
  },
  {
   "cell_type": "code",
   "execution_count": 3,
   "metadata": {},
   "outputs": [],
   "source": [
    "df = pd.read_csv('processed.csv')\n",
    "df.drop(['Unnamed: 0'], axis = 1, inplace = True)"
   ]
  },
  {
   "cell_type": "code",
   "execution_count": 4,
   "metadata": {},
   "outputs": [
    {
     "data": {
      "text/html": [
       "<div>\n",
       "<style scoped>\n",
       "    .dataframe tbody tr th:only-of-type {\n",
       "        vertical-align: middle;\n",
       "    }\n",
       "\n",
       "    .dataframe tbody tr th {\n",
       "        vertical-align: top;\n",
       "    }\n",
       "\n",
       "    .dataframe thead th {\n",
       "        text-align: right;\n",
       "    }\n",
       "</style>\n",
       "<table border=\"1\" class=\"dataframe\">\n",
       "  <thead>\n",
       "    <tr style=\"text-align: right;\">\n",
       "      <th></th>\n",
       "      <th>scenario</th>\n",
       "      <th>bichoice</th>\n",
       "      <th>comb</th>\n",
       "      <th>priceprop</th>\n",
       "      <th>range</th>\n",
       "      <th>home_chg</th>\n",
       "      <th>work_chg</th>\n",
       "      <th>fasttime</th>\n",
       "      <th>town</th>\n",
       "      <th>highway</th>\n",
       "      <th>...</th>\n",
       "      <th>used_car_owner</th>\n",
       "      <th>used_ev_owner</th>\n",
       "      <th>used</th>\n",
       "      <th>numprice</th>\n",
       "      <th>PopDensity</th>\n",
       "      <th>orphan</th>\n",
       "      <th>ev_owner</th>\n",
       "      <th>freq</th>\n",
       "      <th>priceshow</th>\n",
       "      <th>home_park</th>\n",
       "    </tr>\n",
       "  </thead>\n",
       "  <tbody>\n",
       "    <tr>\n",
       "      <th>0</th>\n",
       "      <td>25</td>\n",
       "      <td>1</td>\n",
       "      <td>6468</td>\n",
       "      <td>0.70</td>\n",
       "      <td>100</td>\n",
       "      <td>0</td>\n",
       "      <td>0</td>\n",
       "      <td>15</td>\n",
       "      <td>2</td>\n",
       "      <td>4</td>\n",
       "      <td>...</td>\n",
       "      <td>1</td>\n",
       "      <td>0</td>\n",
       "      <td>1</td>\n",
       "      <td>10000</td>\n",
       "      <td>290.5478</td>\n",
       "      <td>1</td>\n",
       "      <td>0</td>\n",
       "      <td>6</td>\n",
       "      <td>7000</td>\n",
       "      <td>2</td>\n",
       "    </tr>\n",
       "    <tr>\n",
       "      <th>1</th>\n",
       "      <td>44</td>\n",
       "      <td>0</td>\n",
       "      <td>13191</td>\n",
       "      <td>0.70</td>\n",
       "      <td>400</td>\n",
       "      <td>20</td>\n",
       "      <td>3</td>\n",
       "      <td>15</td>\n",
       "      <td>3</td>\n",
       "      <td>3</td>\n",
       "      <td>...</td>\n",
       "      <td>1</td>\n",
       "      <td>0</td>\n",
       "      <td>1</td>\n",
       "      <td>10000</td>\n",
       "      <td>290.5478</td>\n",
       "      <td>1</td>\n",
       "      <td>0</td>\n",
       "      <td>6</td>\n",
       "      <td>7000</td>\n",
       "      <td>2</td>\n",
       "    </tr>\n",
       "    <tr>\n",
       "      <th>2</th>\n",
       "      <td>10</td>\n",
       "      <td>1</td>\n",
       "      <td>21921</td>\n",
       "      <td>0.70</td>\n",
       "      <td>200</td>\n",
       "      <td>0</td>\n",
       "      <td>10</td>\n",
       "      <td>30</td>\n",
       "      <td>3</td>\n",
       "      <td>2</td>\n",
       "      <td>...</td>\n",
       "      <td>1</td>\n",
       "      <td>0</td>\n",
       "      <td>1</td>\n",
       "      <td>10000</td>\n",
       "      <td>290.5478</td>\n",
       "      <td>1</td>\n",
       "      <td>0</td>\n",
       "      <td>6</td>\n",
       "      <td>7000</td>\n",
       "      <td>2</td>\n",
       "    </tr>\n",
       "    <tr>\n",
       "      <th>3</th>\n",
       "      <td>35</td>\n",
       "      <td>1</td>\n",
       "      <td>32501</td>\n",
       "      <td>0.85</td>\n",
       "      <td>300</td>\n",
       "      <td>0</td>\n",
       "      <td>10</td>\n",
       "      <td>5</td>\n",
       "      <td>3</td>\n",
       "      <td>1</td>\n",
       "      <td>...</td>\n",
       "      <td>1</td>\n",
       "      <td>0</td>\n",
       "      <td>1</td>\n",
       "      <td>10000</td>\n",
       "      <td>290.5478</td>\n",
       "      <td>1</td>\n",
       "      <td>0</td>\n",
       "      <td>6</td>\n",
       "      <td>8500</td>\n",
       "      <td>2</td>\n",
       "    </tr>\n",
       "    <tr>\n",
       "      <th>4</th>\n",
       "      <td>111</td>\n",
       "      <td>0</td>\n",
       "      <td>12360</td>\n",
       "      <td>0.70</td>\n",
       "      <td>100</td>\n",
       "      <td>20</td>\n",
       "      <td>20</td>\n",
       "      <td>30</td>\n",
       "      <td>3</td>\n",
       "      <td>3</td>\n",
       "      <td>...</td>\n",
       "      <td>1</td>\n",
       "      <td>0</td>\n",
       "      <td>1</td>\n",
       "      <td>10000</td>\n",
       "      <td>290.5478</td>\n",
       "      <td>1</td>\n",
       "      <td>0</td>\n",
       "      <td>6</td>\n",
       "      <td>7000</td>\n",
       "      <td>2</td>\n",
       "    </tr>\n",
       "    <tr>\n",
       "      <th>...</th>\n",
       "      <td>...</td>\n",
       "      <td>...</td>\n",
       "      <td>...</td>\n",
       "      <td>...</td>\n",
       "      <td>...</td>\n",
       "      <td>...</td>\n",
       "      <td>...</td>\n",
       "      <td>...</td>\n",
       "      <td>...</td>\n",
       "      <td>...</td>\n",
       "      <td>...</td>\n",
       "      <td>...</td>\n",
       "      <td>...</td>\n",
       "      <td>...</td>\n",
       "      <td>...</td>\n",
       "      <td>...</td>\n",
       "      <td>...</td>\n",
       "      <td>...</td>\n",
       "      <td>...</td>\n",
       "      <td>...</td>\n",
       "      <td>...</td>\n",
       "    </tr>\n",
       "    <tr>\n",
       "      <th>5797</th>\n",
       "      <td>54</td>\n",
       "      <td>0</td>\n",
       "      <td>36184</td>\n",
       "      <td>1.00</td>\n",
       "      <td>300</td>\n",
       "      <td>1</td>\n",
       "      <td>3</td>\n",
       "      <td>30</td>\n",
       "      <td>1</td>\n",
       "      <td>1</td>\n",
       "      <td>...</td>\n",
       "      <td>0</td>\n",
       "      <td>0</td>\n",
       "      <td>0</td>\n",
       "      <td>40000</td>\n",
       "      <td>745.2866</td>\n",
       "      <td>1</td>\n",
       "      <td>0</td>\n",
       "      <td>6</td>\n",
       "      <td>40000</td>\n",
       "      <td>1</td>\n",
       "    </tr>\n",
       "    <tr>\n",
       "      <th>5798</th>\n",
       "      <td>101</td>\n",
       "      <td>0</td>\n",
       "      <td>32245</td>\n",
       "      <td>1.00</td>\n",
       "      <td>400</td>\n",
       "      <td>0</td>\n",
       "      <td>1</td>\n",
       "      <td>15</td>\n",
       "      <td>3</td>\n",
       "      <td>1</td>\n",
       "      <td>...</td>\n",
       "      <td>0</td>\n",
       "      <td>0</td>\n",
       "      <td>0</td>\n",
       "      <td>40000</td>\n",
       "      <td>745.2866</td>\n",
       "      <td>1</td>\n",
       "      <td>0</td>\n",
       "      <td>6</td>\n",
       "      <td>40000</td>\n",
       "      <td>1</td>\n",
       "    </tr>\n",
       "    <tr>\n",
       "      <th>5799</th>\n",
       "      <td>39</td>\n",
       "      <td>0</td>\n",
       "      <td>17817</td>\n",
       "      <td>0.70</td>\n",
       "      <td>200</td>\n",
       "      <td>20</td>\n",
       "      <td>5</td>\n",
       "      <td>15</td>\n",
       "      <td>1</td>\n",
       "      <td>3</td>\n",
       "      <td>...</td>\n",
       "      <td>0</td>\n",
       "      <td>0</td>\n",
       "      <td>0</td>\n",
       "      <td>40000</td>\n",
       "      <td>745.2866</td>\n",
       "      <td>1</td>\n",
       "      <td>0</td>\n",
       "      <td>6</td>\n",
       "      <td>28000</td>\n",
       "      <td>1</td>\n",
       "    </tr>\n",
       "    <tr>\n",
       "      <th>5800</th>\n",
       "      <td>16</td>\n",
       "      <td>0</td>\n",
       "      <td>20680</td>\n",
       "      <td>1.00</td>\n",
       "      <td>300</td>\n",
       "      <td>10</td>\n",
       "      <td>10</td>\n",
       "      <td>5</td>\n",
       "      <td>4</td>\n",
       "      <td>2</td>\n",
       "      <td>...</td>\n",
       "      <td>0</td>\n",
       "      <td>0</td>\n",
       "      <td>0</td>\n",
       "      <td>40000</td>\n",
       "      <td>745.2866</td>\n",
       "      <td>1</td>\n",
       "      <td>0</td>\n",
       "      <td>6</td>\n",
       "      <td>40000</td>\n",
       "      <td>1</td>\n",
       "    </tr>\n",
       "    <tr>\n",
       "      <th>5801</th>\n",
       "      <td>7</td>\n",
       "      <td>0</td>\n",
       "      <td>4457</td>\n",
       "      <td>0.85</td>\n",
       "      <td>300</td>\n",
       "      <td>20</td>\n",
       "      <td>2</td>\n",
       "      <td>5</td>\n",
       "      <td>3</td>\n",
       "      <td>4</td>\n",
       "      <td>...</td>\n",
       "      <td>0</td>\n",
       "      <td>0</td>\n",
       "      <td>0</td>\n",
       "      <td>40000</td>\n",
       "      <td>745.2866</td>\n",
       "      <td>1</td>\n",
       "      <td>0</td>\n",
       "      <td>6</td>\n",
       "      <td>34000</td>\n",
       "      <td>1</td>\n",
       "    </tr>\n",
       "  </tbody>\n",
       "</table>\n",
       "<p>5802 rows × 44 columns</p>\n",
       "</div>"
      ],
      "text/plain": [
       "      scenario  bichoice   comb  priceprop  range  home_chg  work_chg  \\\n",
       "0           25         1   6468       0.70    100         0         0   \n",
       "1           44         0  13191       0.70    400        20         3   \n",
       "2           10         1  21921       0.70    200         0        10   \n",
       "3           35         1  32501       0.85    300         0        10   \n",
       "4          111         0  12360       0.70    100        20        20   \n",
       "...        ...       ...    ...        ...    ...       ...       ...   \n",
       "5797        54         0  36184       1.00    300         1         3   \n",
       "5798       101         0  32245       1.00    400         0         1   \n",
       "5799        39         0  17817       0.70    200        20         5   \n",
       "5800        16         0  20680       1.00    300        10        10   \n",
       "5801         7         0   4457       0.85    300        20         2   \n",
       "\n",
       "      fasttime  town  highway  ...  used_car_owner  used_ev_owner  used  \\\n",
       "0           15     2        4  ...               1              0     1   \n",
       "1           15     3        3  ...               1              0     1   \n",
       "2           30     3        2  ...               1              0     1   \n",
       "3            5     3        1  ...               1              0     1   \n",
       "4           30     3        3  ...               1              0     1   \n",
       "...        ...   ...      ...  ...             ...            ...   ...   \n",
       "5797        30     1        1  ...               0              0     0   \n",
       "5798        15     3        1  ...               0              0     0   \n",
       "5799        15     1        3  ...               0              0     0   \n",
       "5800         5     4        2  ...               0              0     0   \n",
       "5801         5     3        4  ...               0              0     0   \n",
       "\n",
       "      numprice  PopDensity  orphan  ev_owner  freq  priceshow  home_park  \n",
       "0        10000    290.5478       1         0     6       7000          2  \n",
       "1        10000    290.5478       1         0     6       7000          2  \n",
       "2        10000    290.5478       1         0     6       7000          2  \n",
       "3        10000    290.5478       1         0     6       8500          2  \n",
       "4        10000    290.5478       1         0     6       7000          2  \n",
       "...        ...         ...     ...       ...   ...        ...        ...  \n",
       "5797     40000    745.2866       1         0     6      40000          1  \n",
       "5798     40000    745.2866       1         0     6      40000          1  \n",
       "5799     40000    745.2866       1         0     6      28000          1  \n",
       "5800     40000    745.2866       1         0     6      40000          1  \n",
       "5801     40000    745.2866       1         0     6      34000          1  \n",
       "\n",
       "[5802 rows x 44 columns]"
      ]
     },
     "execution_count": 4,
     "metadata": {},
     "output_type": "execute_result"
    }
   ],
   "source": [
    "df"
   ]
  },
  {
   "cell_type": "code",
   "execution_count": 5,
   "metadata": {},
   "outputs": [],
   "source": [
    "#from the entire dataset, choosing specific columns that represents the socio-economic background.\n",
    "pi = df[['gender','state_answer','edu','employment','hsincome','hhsize','age','license','housit','residence','move','work_parking','home_park','orphan']]"
   ]
  },
  {
   "cell_type": "markdown",
   "metadata": {},
   "source": [
    "## Feature Selection"
   ]
  },
  {
   "cell_type": "markdown",
   "metadata": {},
   "source": [
    "The function uses chi-squared feature selection method to visualizer the feature importance score"
   ]
  },
  {
   "cell_type": "code",
   "execution_count": 6,
   "metadata": {},
   "outputs": [
    {
     "name": "stdout",
     "output_type": "stream",
     "text": [
      "Feature 0: 16.465468\n",
      "Feature 1: 7.445104\n",
      "Feature 2: 2.684227\n",
      "Feature 3: 1.028252\n",
      "Feature 4: 0.609504\n",
      "Feature 5: 5.675016\n",
      "Feature 6: 17.540413\n",
      "Feature 7: 0.000989\n",
      "Feature 8: 0.000057\n",
      "Feature 9: 5.948883\n",
      "Feature 10: 0.009033\n",
      "Feature 11: 8.768291\n",
      "Feature 12: 0.053032\n",
      "Feature 13: 0.659022\n"
     ]
    },
    {
     "data": {
      "image/png": "[encoded data removed]",
      "text/plain": [
       "<Figure size 432x288 with 1 Axes>"
      ]
     },
     "metadata": {
      "needs_background": "light"
     },
     "output_type": "display_data"
    }
   ],
   "source": [
    "selectK(pi,df['bichoice'])"
   ]
  },
  {
   "cell_type": "markdown",
   "metadata": {},
   "source": [
    "Selecting Top 5 features based on the above function, dataframe will be created"
   ]
  },
  {
   "cell_type": "code",
   "execution_count": 7,
   "metadata": {},
   "outputs": [],
   "source": [
    "#feature score computing\n",
    "fs = select_features(pi, df['bichoice'])"
   ]
  },
  {
   "cell_type": "code",
   "execution_count": 8,
   "metadata": {},
   "outputs": [
    {
     "name": "stdout",
     "output_type": "stream",
     "text": [
      "Top5 Feature:age,17.540412916958445\n",
      "Top5 Feature:gender,16.46546776978813\n",
      "Top5 Feature:work_parking,8.768290985334266\n",
      "Top5 Feature:state_answer,7.445104172693558\n",
      "Top5 Feature:residence,5.94888304469447\n"
     ]
    }
   ],
   "source": [
    "selected_df = top5_features(fs, pi)"
   ]
  },
  {
   "cell_type": "code",
   "execution_count": 9,
   "metadata": {},
   "outputs": [
    {
     "data": {
      "text/html": [
       "<div>\n",
       "<style scoped>\n",
       "    .dataframe tbody tr th:only-of-type {\n",
       "        vertical-align: middle;\n",
       "    }\n",
       "\n",
       "    .dataframe tbody tr th {\n",
       "        vertical-align: top;\n",
       "    }\n",
       "\n",
       "    .dataframe thead th {\n",
       "        text-align: right;\n",
       "    }\n",
       "</style>\n",
       "<table border=\"1\" class=\"dataframe\">\n",
       "  <thead>\n",
       "    <tr style=\"text-align: right;\">\n",
       "      <th></th>\n",
       "      <th>age</th>\n",
       "      <th>gender</th>\n",
       "      <th>work_parking</th>\n",
       "      <th>state_answer</th>\n",
       "      <th>residence</th>\n",
       "    </tr>\n",
       "  </thead>\n",
       "  <tbody>\n",
       "    <tr>\n",
       "      <th>0</th>\n",
       "      <td>3</td>\n",
       "      <td>0</td>\n",
       "      <td>4</td>\n",
       "      <td>44</td>\n",
       "      <td>5</td>\n",
       "    </tr>\n",
       "    <tr>\n",
       "      <th>1</th>\n",
       "      <td>3</td>\n",
       "      <td>0</td>\n",
       "      <td>4</td>\n",
       "      <td>44</td>\n",
       "      <td>5</td>\n",
       "    </tr>\n",
       "    <tr>\n",
       "      <th>2</th>\n",
       "      <td>3</td>\n",
       "      <td>0</td>\n",
       "      <td>4</td>\n",
       "      <td>44</td>\n",
       "      <td>5</td>\n",
       "    </tr>\n",
       "    <tr>\n",
       "      <th>3</th>\n",
       "      <td>3</td>\n",
       "      <td>0</td>\n",
       "      <td>4</td>\n",
       "      <td>44</td>\n",
       "      <td>5</td>\n",
       "    </tr>\n",
       "    <tr>\n",
       "      <th>4</th>\n",
       "      <td>3</td>\n",
       "      <td>0</td>\n",
       "      <td>4</td>\n",
       "      <td>44</td>\n",
       "      <td>5</td>\n",
       "    </tr>\n",
       "  </tbody>\n",
       "</table>\n",
       "</div>"
      ],
      "text/plain": [
       "   age  gender  work_parking  state_answer  residence\n",
       "0    3       0             4            44          5\n",
       "1    3       0             4            44          5\n",
       "2    3       0             4            44          5\n",
       "3    3       0             4            44          5\n",
       "4    3       0             4            44          5"
      ]
     },
     "execution_count": 9,
     "metadata": {},
     "output_type": "execute_result"
    }
   ],
   "source": [
    "#Resulting dataframe\n",
    "selected_df.head()"
   ]
  },
  {
   "cell_type": "markdown",
   "metadata": {},
   "source": [
    "## Seleting Optimal K "
   ]
  },
  {
   "cell_type": "markdown",
   "metadata": {},
   "source": [
    "Elbow curve is used to visualize and choose the optimal K for K-mode selection"
   ]
  },
  {
   "cell_type": "code",
   "execution_count": 10,
   "metadata": {},
   "outputs": [
    {
     "data": {
      "image/png": "[encoded data removed]",
      "text/plain": [
       "<Figure size 432x288 with 1 Axes>"
      ]
     },
     "metadata": {
      "needs_background": "light"
     },
     "output_type": "display_data"
    }
   ],
   "source": [
    "#Elbow Curve function \n",
    "k_mode(pi, 6)"
   ]
  },
  {
   "cell_type": "markdown",
   "metadata": {},
   "source": [
    "Base on the Elbow curve, k=3 is chosen and will be computed "
   ]
  },
  {
   "cell_type": "code",
   "execution_count": 11,
   "metadata": {},
   "outputs": [],
   "source": [
    "#Input to the function: Dataset, number of k selected\n",
    "km = k_mode_compute__(pi, 3)"
   ]
  },
  {
   "cell_type": "markdown",
   "metadata": {},
   "source": [
    "## Simulation"
   ]
  },
  {
   "cell_type": "markdown",
   "metadata": {},
   "source": [
    "Because there are many features involved and each features have multiple classes, it will be hard for k-mode algorithm to seperate them into 3 total clusters only. Running K-mode many times will show the  optimal probability that represents the population"
   ]
  },
  {
   "cell_type": "code",
   "execution_count": 12,
   "metadata": {},
   "outputs": [],
   "source": [
    "# Monte Carlo Simulation (Running 100 Times)\n",
    "freq, sample, sim_result = simulation(input_dataframe=selected_df, num_k=3, num_iteration=100)"
   ]
  },
  {
   "cell_type": "code",
   "execution_count": 179,
   "metadata": {},
   "outputs": [
    {
     "data": {
      "text/html": [
       "<div>\n",
       "<style scoped>\n",
       "    .dataframe tbody tr th:only-of-type {\n",
       "        vertical-align: middle;\n",
       "    }\n",
       "\n",
       "    .dataframe tbody tr th {\n",
       "        vertical-align: top;\n",
       "    }\n",
       "\n",
       "    .dataframe thead th {\n",
       "        text-align: right;\n",
       "    }\n",
       "</style>\n",
       "<table border=\"1\" class=\"dataframe\">\n",
       "  <thead>\n",
       "    <tr style=\"text-align: right;\">\n",
       "      <th></th>\n",
       "      <th>0_x</th>\n",
       "      <th>0_y</th>\n",
       "      <th>0_x</th>\n",
       "      <th>0_y</th>\n",
       "      <th>0_x</th>\n",
       "      <th>0_y</th>\n",
       "      <th>0_x</th>\n",
       "      <th>0_y</th>\n",
       "      <th>0_x</th>\n",
       "      <th>0_y</th>\n",
       "      <th>...</th>\n",
       "      <th>0_x</th>\n",
       "      <th>0_y</th>\n",
       "      <th>0_x</th>\n",
       "      <th>0_y</th>\n",
       "      <th>0_x</th>\n",
       "      <th>0_y</th>\n",
       "      <th>0_x</th>\n",
       "      <th>0_y</th>\n",
       "      <th>0_x</th>\n",
       "      <th>0_y</th>\n",
       "    </tr>\n",
       "  </thead>\n",
       "  <tbody>\n",
       "    <tr>\n",
       "      <th>0</th>\n",
       "      <td>3480</td>\n",
       "      <td>2562</td>\n",
       "      <td>3390</td>\n",
       "      <td>3678</td>\n",
       "      <td>1458</td>\n",
       "      <td>2748</td>\n",
       "      <td>3018</td>\n",
       "      <td>2376</td>\n",
       "      <td>3810</td>\n",
       "      <td>2184</td>\n",
       "      <td>...</td>\n",
       "      <td>3036</td>\n",
       "      <td>1692</td>\n",
       "      <td>3036</td>\n",
       "      <td>2514</td>\n",
       "      <td>3006</td>\n",
       "      <td>2772</td>\n",
       "      <td>3072</td>\n",
       "      <td>3390</td>\n",
       "      <td>3078</td>\n",
       "      <td>2454</td>\n",
       "    </tr>\n",
       "    <tr>\n",
       "      <th>1</th>\n",
       "      <td>1440</td>\n",
       "      <td>2346</td>\n",
       "      <td>1464</td>\n",
       "      <td>1044</td>\n",
       "      <td>2706</td>\n",
       "      <td>1086</td>\n",
       "      <td>2244</td>\n",
       "      <td>2736</td>\n",
       "      <td>852</td>\n",
       "      <td>2484</td>\n",
       "      <td>...</td>\n",
       "      <td>1740</td>\n",
       "      <td>2430</td>\n",
       "      <td>1740</td>\n",
       "      <td>2442</td>\n",
       "      <td>2160</td>\n",
       "      <td>2490</td>\n",
       "      <td>2100</td>\n",
       "      <td>1464</td>\n",
       "      <td>894</td>\n",
       "      <td>1116</td>\n",
       "    </tr>\n",
       "    <tr>\n",
       "      <th>2</th>\n",
       "      <td>882</td>\n",
       "      <td>894</td>\n",
       "      <td>948</td>\n",
       "      <td>1080</td>\n",
       "      <td>1638</td>\n",
       "      <td>1968</td>\n",
       "      <td>540</td>\n",
       "      <td>690</td>\n",
       "      <td>1140</td>\n",
       "      <td>1134</td>\n",
       "      <td>...</td>\n",
       "      <td>1026</td>\n",
       "      <td>1680</td>\n",
       "      <td>1026</td>\n",
       "      <td>846</td>\n",
       "      <td>636</td>\n",
       "      <td>540</td>\n",
       "      <td>630</td>\n",
       "      <td>948</td>\n",
       "      <td>1830</td>\n",
       "      <td>2232</td>\n",
       "    </tr>\n",
       "  </tbody>\n",
       "</table>\n",
       "<p>3 rows × 500 columns</p>\n",
       "</div>"
      ],
      "text/plain": [
       "    0_x   0_y   0_x   0_y   0_x   0_y   0_x   0_y   0_x   0_y  ...   0_x  \\\n",
       "0  3480  2562  3390  3678  1458  2748  3018  2376  3810  2184  ...  3036   \n",
       "1  1440  2346  1464  1044  2706  1086  2244  2736   852  2484  ...  1740   \n",
       "2   882   894   948  1080  1638  1968   540   690  1140  1134  ...  1026   \n",
       "\n",
       "    0_y   0_x   0_y   0_x   0_y   0_x   0_y   0_x   0_y  \n",
       "0  1692  3036  2514  3006  2772  3072  3390  3078  2454  \n",
       "1  2430  1740  2442  2160  2490  2100  1464   894  1116  \n",
       "2  1680  1026   846   636   540   630   948  1830  2232  \n",
       "\n",
       "[3 rows x 500 columns]"
      ]
     },
     "execution_count": 179,
     "metadata": {},
     "output_type": "execute_result"
    }
   ],
   "source": [
    "#Resulting Data from the Simulation\n",
    "#Row: nth-cluster\n",
    "#Columns: number of iterations (100 in total)\n",
    "sim_result"
   ]
  },
  {
   "cell_type": "markdown",
   "metadata": {},
   "source": [
    "Monte Carlo simulation assumes that if iterations are done many times it will be exactly same as the population distribution.\n",
    "<br>\n",
    "\n",
    "Greern plot indicates the Distrubtion for 500 iteration simulation\n",
    "<br>\n",
    "Red plot indiciated the portion represents the 1 standard deviation"
   ]
  },
  {
   "cell_type": "code",
   "execution_count": 13,
   "metadata": {},
   "outputs": [
    {
     "data": {
      "text/plain": [
       "(<matplotlib.axes._subplots.AxesSubplot at 0x1ffdd1bfb20>,\n",
       " <matplotlib.axes._subplots.AxesSubplot at 0x1ffdd1bfb20>)"
      ]
     },
     "execution_count": 13,
     "metadata": {},
     "output_type": "execute_result"
    },
    {
     "data": {
      "image/png": "[encoded data removed]",
      "text/plain": [
       "<Figure size 432x288 with 1 Axes>"
      ]
     },
     "metadata": {
      "needs_background": "light"
     },
     "output_type": "display_data"
    }
   ],
   "source": [
    "monte_carlo_vis(sim_result,0)"
   ]
  },
  {
   "cell_type": "markdown",
   "metadata": {},
   "source": [
    "Because we need to pick the optimal cluster combination sepearation and becaus we have utilized box-cox transform to make the distribution Gaussian-like. The optimal combination would be the one that is closeset to the mean"
   ]
  },
  {
   "cell_type": "code",
   "execution_count": 14,
   "metadata": {},
   "outputs": [],
   "source": [
    "# Seleting the Optimal Clustering by Examining the minimal distance from the mean\n",
    "best_val, best_sample = optimal_cluster(sim_result, sample)"
   ]
  },
  {
   "cell_type": "code",
   "execution_count": 15,
   "metadata": {},
   "outputs": [
    {
     "data": {
      "text/plain": [
       "0    2994\n",
       "1    1524\n",
       "2    1284\n",
       "Name: 0, dtype: int64"
      ]
     },
     "execution_count": 15,
     "metadata": {},
     "output_type": "execute_result"
    }
   ],
   "source": [
    "# Clustering Combination Found out to be the Optimal (Index indicates the nth_cluster)\n",
    "best_val"
   ]
  },
  {
   "cell_type": "code",
   "execution_count": 23,
   "metadata": {},
   "outputs": [
    {
     "data": {
      "text/html": [
       "<div>\n",
       "<style scoped>\n",
       "    .dataframe tbody tr th:only-of-type {\n",
       "        vertical-align: middle;\n",
       "    }\n",
       "\n",
       "    .dataframe tbody tr th {\n",
       "        vertical-align: top;\n",
       "    }\n",
       "\n",
       "    .dataframe thead th {\n",
       "        text-align: right;\n",
       "    }\n",
       "</style>\n",
       "<table border=\"1\" class=\"dataframe\">\n",
       "  <thead>\n",
       "    <tr style=\"text-align: right;\">\n",
       "      <th></th>\n",
       "      <th>index</th>\n",
       "      <th>Cluster</th>\n",
       "    </tr>\n",
       "  </thead>\n",
       "  <tbody>\n",
       "    <tr>\n",
       "      <th>0</th>\n",
       "      <td>0</td>\n",
       "      <td>1</td>\n",
       "    </tr>\n",
       "    <tr>\n",
       "      <th>1</th>\n",
       "      <td>1</td>\n",
       "      <td>1</td>\n",
       "    </tr>\n",
       "    <tr>\n",
       "      <th>2</th>\n",
       "      <td>2</td>\n",
       "      <td>1</td>\n",
       "    </tr>\n",
       "    <tr>\n",
       "      <th>3</th>\n",
       "      <td>3</td>\n",
       "      <td>1</td>\n",
       "    </tr>\n",
       "    <tr>\n",
       "      <th>4</th>\n",
       "      <td>4</td>\n",
       "      <td>1</td>\n",
       "    </tr>\n",
       "    <tr>\n",
       "      <th>...</th>\n",
       "      <td>...</td>\n",
       "      <td>...</td>\n",
       "    </tr>\n",
       "    <tr>\n",
       "      <th>5797</th>\n",
       "      <td>5797</td>\n",
       "      <td>0</td>\n",
       "    </tr>\n",
       "    <tr>\n",
       "      <th>5798</th>\n",
       "      <td>5798</td>\n",
       "      <td>0</td>\n",
       "    </tr>\n",
       "    <tr>\n",
       "      <th>5799</th>\n",
       "      <td>5799</td>\n",
       "      <td>0</td>\n",
       "    </tr>\n",
       "    <tr>\n",
       "      <th>5800</th>\n",
       "      <td>5800</td>\n",
       "      <td>0</td>\n",
       "    </tr>\n",
       "    <tr>\n",
       "      <th>5801</th>\n",
       "      <td>5801</td>\n",
       "      <td>0</td>\n",
       "    </tr>\n",
       "  </tbody>\n",
       "</table>\n",
       "<p>5802 rows × 2 columns</p>\n",
       "</div>"
      ],
      "text/plain": [
       "      index  Cluster\n",
       "0         0        1\n",
       "1         1        1\n",
       "2         2        1\n",
       "3         3        1\n",
       "4         4        1\n",
       "...     ...      ...\n",
       "5797   5797        0\n",
       "5798   5798        0\n",
       "5799   5799        0\n",
       "5800   5800        0\n",
       "5801   5801        0\n",
       "\n",
       "[5802 rows x 2 columns]"
      ]
     },
     "execution_count": 23,
     "metadata": {},
     "output_type": "execute_result"
    }
   ],
   "source": [
    "# Sample Data with Cluster Labled\n",
    "# Index will be used to combine with other dataframe later on to track the sample\n",
    "best_sample.rename(columns={0:'Cluster'}, inplace=True)\n",
    "best_sample"
   ]
  },
  {
   "cell_type": "code",
   "execution_count": 26,
   "metadata": {},
   "outputs": [
    {
     "data": {
      "text/html": [
       "<div>\n",
       "<style scoped>\n",
       "    .dataframe tbody tr th:only-of-type {\n",
       "        vertical-align: middle;\n",
       "    }\n",
       "\n",
       "    .dataframe tbody tr th {\n",
       "        vertical-align: top;\n",
       "    }\n",
       "\n",
       "    .dataframe thead th {\n",
       "        text-align: right;\n",
       "    }\n",
       "</style>\n",
       "<table border=\"1\" class=\"dataframe\">\n",
       "  <thead>\n",
       "    <tr style=\"text-align: right;\">\n",
       "      <th></th>\n",
       "      <th>index</th>\n",
       "      <th>age</th>\n",
       "      <th>gender</th>\n",
       "      <th>work_parking</th>\n",
       "      <th>state_answer</th>\n",
       "      <th>residence</th>\n",
       "      <th>Cluster</th>\n",
       "    </tr>\n",
       "  </thead>\n",
       "  <tbody>\n",
       "    <tr>\n",
       "      <th>0</th>\n",
       "      <td>0</td>\n",
       "      <td>3</td>\n",
       "      <td>0</td>\n",
       "      <td>4</td>\n",
       "      <td>44</td>\n",
       "      <td>5</td>\n",
       "      <td>1</td>\n",
       "    </tr>\n",
       "    <tr>\n",
       "      <th>1</th>\n",
       "      <td>1</td>\n",
       "      <td>3</td>\n",
       "      <td>0</td>\n",
       "      <td>4</td>\n",
       "      <td>44</td>\n",
       "      <td>5</td>\n",
       "      <td>1</td>\n",
       "    </tr>\n",
       "    <tr>\n",
       "      <th>2</th>\n",
       "      <td>2</td>\n",
       "      <td>3</td>\n",
       "      <td>0</td>\n",
       "      <td>4</td>\n",
       "      <td>44</td>\n",
       "      <td>5</td>\n",
       "      <td>1</td>\n",
       "    </tr>\n",
       "    <tr>\n",
       "      <th>3</th>\n",
       "      <td>3</td>\n",
       "      <td>3</td>\n",
       "      <td>0</td>\n",
       "      <td>4</td>\n",
       "      <td>44</td>\n",
       "      <td>5</td>\n",
       "      <td>1</td>\n",
       "    </tr>\n",
       "    <tr>\n",
       "      <th>4</th>\n",
       "      <td>4</td>\n",
       "      <td>3</td>\n",
       "      <td>0</td>\n",
       "      <td>4</td>\n",
       "      <td>44</td>\n",
       "      <td>5</td>\n",
       "      <td>1</td>\n",
       "    </tr>\n",
       "    <tr>\n",
       "      <th>...</th>\n",
       "      <td>...</td>\n",
       "      <td>...</td>\n",
       "      <td>...</td>\n",
       "      <td>...</td>\n",
       "      <td>...</td>\n",
       "      <td>...</td>\n",
       "      <td>...</td>\n",
       "    </tr>\n",
       "    <tr>\n",
       "      <th>5797</th>\n",
       "      <td>5797</td>\n",
       "      <td>2</td>\n",
       "      <td>1</td>\n",
       "      <td>2</td>\n",
       "      <td>9</td>\n",
       "      <td>1</td>\n",
       "      <td>0</td>\n",
       "    </tr>\n",
       "    <tr>\n",
       "      <th>5798</th>\n",
       "      <td>5798</td>\n",
       "      <td>2</td>\n",
       "      <td>1</td>\n",
       "      <td>2</td>\n",
       "      <td>9</td>\n",
       "      <td>1</td>\n",
       "      <td>0</td>\n",
       "    </tr>\n",
       "    <tr>\n",
       "      <th>5799</th>\n",
       "      <td>5799</td>\n",
       "      <td>2</td>\n",
       "      <td>1</td>\n",
       "      <td>2</td>\n",
       "      <td>9</td>\n",
       "      <td>1</td>\n",
       "      <td>0</td>\n",
       "    </tr>\n",
       "    <tr>\n",
       "      <th>5800</th>\n",
       "      <td>5800</td>\n",
       "      <td>2</td>\n",
       "      <td>1</td>\n",
       "      <td>2</td>\n",
       "      <td>9</td>\n",
       "      <td>1</td>\n",
       "      <td>0</td>\n",
       "    </tr>\n",
       "    <tr>\n",
       "      <th>5801</th>\n",
       "      <td>5801</td>\n",
       "      <td>2</td>\n",
       "      <td>1</td>\n",
       "      <td>2</td>\n",
       "      <td>9</td>\n",
       "      <td>1</td>\n",
       "      <td>0</td>\n",
       "    </tr>\n",
       "  </tbody>\n",
       "</table>\n",
       "<p>5802 rows × 7 columns</p>\n",
       "</div>"
      ],
      "text/plain": [
       "      index  age  gender  work_parking  state_answer  residence  Cluster\n",
       "0         0    3       0             4            44          5        1\n",
       "1         1    3       0             4            44          5        1\n",
       "2         2    3       0             4            44          5        1\n",
       "3         3    3       0             4            44          5        1\n",
       "4         4    3       0             4            44          5        1\n",
       "...     ...  ...     ...           ...           ...        ...      ...\n",
       "5797   5797    2       1             2             9          1        0\n",
       "5798   5798    2       1             2             9          1        0\n",
       "5799   5799    2       1             2             9          1        0\n",
       "5800   5800    2       1             2             9          1        0\n",
       "5801   5801    2       1             2             9          1        0\n",
       "\n",
       "[5802 rows x 7 columns]"
      ]
     },
     "execution_count": 26,
     "metadata": {},
     "output_type": "execute_result"
    }
   ],
   "source": [
    "merged_df = pd.merge(selected_df.reset_index(), best_sample)\n",
    "merged_df"
   ]
  },
  {
   "cell_type": "code",
   "execution_count": 30,
   "metadata": {},
   "outputs": [
    {
     "name": "stderr",
     "output_type": "stream",
     "text": [
      "C:\\Users\\Wooja\\Anaconda3\\lib\\site-packages\\seaborn\\distributions.py:369: UserWarning: Default bandwidth for data is 0; skipping density estimation.\n",
      "  warnings.warn(msg, UserWarning)\n",
      "C:\\Users\\Wooja\\Anaconda3\\lib\\site-packages\\seaborn\\distributions.py:369: UserWarning: Default bandwidth for data is 0; skipping density estimation.\n",
      "  warnings.warn(msg, UserWarning)\n",
      "C:\\Users\\Wooja\\Anaconda3\\lib\\site-packages\\seaborn\\distributions.py:283: UserWarning: Data must have variance to compute a kernel density estimate.\n",
      "  warnings.warn(msg, UserWarning)\n",
      "C:\\Users\\Wooja\\Anaconda3\\lib\\site-packages\\seaborn\\distributions.py:369: UserWarning: Default bandwidth for data is 0; skipping density estimation.\n",
      "  warnings.warn(msg, UserWarning)\n",
      "C:\\Users\\Wooja\\Anaconda3\\lib\\site-packages\\seaborn\\distributions.py:369: UserWarning: Default bandwidth for data is 0; skipping density estimation.\n",
      "  warnings.warn(msg, UserWarning)\n"
     ]
    },
    {
     "data": {
      "text/plain": [
       "<matplotlib.axes._subplots.AxesSubplot at 0x1ffe2ff7490>"
      ]
     },
     "execution_count": 30,
     "metadata": {},
     "output_type": "execute_result"
    },
    {
     "data": {
      "image/png": "[encoded data removed]",
      "text/plain": [
       "<Figure size 1296x1296 with 15 Axes>"
      ]
     },
     "metadata": {
      "needs_background": "light"
     },
     "output_type": "display_data"
    }
   ],
   "source": [
    "# Visualizing, Characteristics\n",
    "fig, axes = plt.subplots(5,3, figsize=(18,18))\n",
    "\n",
    "fig.suptitle('Cluster Characteristics')\n",
    "\n",
    "axes[0,0].set_title('Cluster 0')\n",
    "axes[0,1].set_title('Cluster 1')\n",
    "axes[0,2].set_title('Cluster 2')\n",
    "\n",
    "sns.distplot(merged_df[merged_df.Cluster==0]['gender'],ax=axes[0,0])\n",
    "sns.distplot(merged_df[merged_df.Cluster==1]['gender'],ax=axes[0,1])\n",
    "sns.distplot(merged_df[merged_df.Cluster==2]['gender'],ax=axes[0,2])\n",
    "\n",
    "sns.distplot(merged_df[merged_df.Cluster==0]['state_answer'],ax=axes[1,0])\n",
    "sns.distplot(merged_df[merged_df.Cluster==1]['state_answer'],ax=axes[1,1])\n",
    "sns.distplot(merged_df[merged_df.Cluster==2]['state_answer'],ax=axes[1,2])\n",
    "\n",
    "sns.distplot(merged_df[merged_df.Cluster==0]['residence'],ax=axes[2,0])\n",
    "sns.distplot(merged_df[merged_df.Cluster==1]['residence'],ax=axes[2,1])\n",
    "sns.distplot(merged_df[merged_df.Cluster==2]['residence'],ax=axes[2,2])\n",
    "\n",
    "sns.distplot(merged_df[merged_df.Cluster==0]['age'],ax=axes[3,0])\n",
    "sns.distplot(merged_df[merged_df.Cluster==1]['age'],ax=axes[3,1])\n",
    "sns.distplot(merged_df[merged_df.Cluster==2]['age'],ax=axes[3,2])\n",
    "\n",
    "sns.distplot(merged_df[merged_df.Cluster==0]['work_parking'],ax=axes[4,0])\n",
    "sns.distplot(merged_df[merged_df.Cluster==1]['work_parking'],ax=axes[4,1])\n",
    "sns.distplot(merged_df[merged_df.Cluster==2]['work_parking'],ax=axes[4,2])"
   ]
  },
  {
   "cell_type": "markdown",
   "metadata": {},
   "source": [
    "The same procedure will be done with 2 different sections - Vehicle Usage and Charging Infrastructure "
   ]
  },
  {
   "cell_type": "code",
   "execution_count": 31,
   "metadata": {},
   "outputs": [],
   "source": [
    "# Vehicle Usage Behavior Section\n",
    "vuse = df[['dmileage','long_dist','gascost']]"
   ]
  },
  {
   "cell_type": "code",
   "execution_count": 32,
   "metadata": {},
   "outputs": [
    {
     "name": "stdout",
     "output_type": "stream",
     "text": [
      "Feature 0: 2.806579\n",
      "Feature 1: 0.218134\n",
      "Feature 2: 0.034617\n"
     ]
    },
    {
     "data": {
      "image/png": "[encoded data removed]",
      "text/plain": [
       "<Figure size 432x288 with 1 Axes>"
      ]
     },
     "metadata": {
      "needs_background": "light"
     },
     "output_type": "display_data"
    }
   ],
   "source": [
    "selectK(vuse,df['bichoice'])"
   ]
  },
  {
   "cell_type": "code",
   "execution_count": 33,
   "metadata": {},
   "outputs": [],
   "source": [
    "#feature score computing\n",
    "fs = select_features(vuse, df['bichoice'])"
   ]
  },
  {
   "cell_type": "code",
   "execution_count": 34,
   "metadata": {},
   "outputs": [
    {
     "name": "stdout",
     "output_type": "stream",
     "text": [
      "Top5 Feature:dmileage,2.806579383868116\n",
      "Top5 Feature:long_dist,0.21813427381741823\n",
      "Top5 Feature:gascost,0.034616990871977796\n"
     ]
    },
    {
     "data": {
      "text/html": [
       "<div>\n",
       "<style scoped>\n",
       "    .dataframe tbody tr th:only-of-type {\n",
       "        vertical-align: middle;\n",
       "    }\n",
       "\n",
       "    .dataframe tbody tr th {\n",
       "        vertical-align: top;\n",
       "    }\n",
       "\n",
       "    .dataframe thead th {\n",
       "        text-align: right;\n",
       "    }\n",
       "</style>\n",
       "<table border=\"1\" class=\"dataframe\">\n",
       "  <thead>\n",
       "    <tr style=\"text-align: right;\">\n",
       "      <th></th>\n",
       "      <th>dmileage</th>\n",
       "      <th>long_dist</th>\n",
       "      <th>gascost</th>\n",
       "    </tr>\n",
       "  </thead>\n",
       "  <tbody>\n",
       "    <tr>\n",
       "      <th>0</th>\n",
       "      <td>25</td>\n",
       "      <td>1</td>\n",
       "      <td>1</td>\n",
       "    </tr>\n",
       "    <tr>\n",
       "      <th>1</th>\n",
       "      <td>25</td>\n",
       "      <td>1</td>\n",
       "      <td>1</td>\n",
       "    </tr>\n",
       "    <tr>\n",
       "      <th>2</th>\n",
       "      <td>25</td>\n",
       "      <td>1</td>\n",
       "      <td>1</td>\n",
       "    </tr>\n",
       "    <tr>\n",
       "      <th>3</th>\n",
       "      <td>25</td>\n",
       "      <td>1</td>\n",
       "      <td>1</td>\n",
       "    </tr>\n",
       "    <tr>\n",
       "      <th>4</th>\n",
       "      <td>25</td>\n",
       "      <td>1</td>\n",
       "      <td>1</td>\n",
       "    </tr>\n",
       "  </tbody>\n",
       "</table>\n",
       "</div>"
      ],
      "text/plain": [
       "   dmileage  long_dist  gascost\n",
       "0        25          1        1\n",
       "1        25          1        1\n",
       "2        25          1        1\n",
       "3        25          1        1\n",
       "4        25          1        1"
      ]
     },
     "execution_count": 34,
     "metadata": {},
     "output_type": "execute_result"
    }
   ],
   "source": [
    "selected_df = top5_features(fs, vuse)\n",
    "#Resulting dataframe\n",
    "selected_df.head()"
   ]
  },
  {
   "cell_type": "code",
   "execution_count": 35,
   "metadata": {},
   "outputs": [
    {
     "data": {
      "image/png": "[encoded data removed]",
      "text/plain": [
       "<Figure size 432x288 with 1 Axes>"
      ]
     },
     "metadata": {
      "needs_background": "light"
     },
     "output_type": "display_data"
    }
   ],
   "source": [
    "#Elbow Curve function \n",
    "k_mode(vuse, 6)"
   ]
  },
  {
   "cell_type": "code",
   "execution_count": 36,
   "metadata": {},
   "outputs": [],
   "source": [
    "#Input to the function: Dataset, number of k selected\n",
    "km = k_mode_compute__(vuse, 3)"
   ]
  },
  {
   "cell_type": "code",
   "execution_count": 37,
   "metadata": {},
   "outputs": [],
   "source": [
    "# Monte Carlo Simulation (Running 100 Times)\n",
    "freq, sample, sim_result = simulation(input_dataframe=selected_df, num_k=3, num_iteration=100)"
   ]
  },
  {
   "cell_type": "code",
   "execution_count": 38,
   "metadata": {},
   "outputs": [
    {
     "data": {
      "text/plain": [
       "(<matplotlib.axes._subplots.AxesSubplot at 0x1ffdd0fd8b0>,\n",
       " <matplotlib.axes._subplots.AxesSubplot at 0x1ffdd0fd8b0>)"
      ]
     },
     "execution_count": 38,
     "metadata": {},
     "output_type": "execute_result"
    },
    {
     "data": {
      "image/png": "[encoded data removed]",
      "text/plain": [
       "<Figure size 432x288 with 1 Axes>"
      ]
     },
     "metadata": {
      "needs_background": "light"
     },
     "output_type": "display_data"
    }
   ],
   "source": [
    "monte_carlo_vis(sim_result,0)"
   ]
  },
  {
   "cell_type": "code",
   "execution_count": 39,
   "metadata": {},
   "outputs": [
    {
     "data": {
      "text/plain": [
       "0    2892\n",
       "1    1710\n",
       "2    1200\n",
       "Name: 0, dtype: int64"
      ]
     },
     "execution_count": 39,
     "metadata": {},
     "output_type": "execute_result"
    }
   ],
   "source": [
    "best_val, best_sample = optimal_cluster(sim_result, sample)\n",
    "best_val"
   ]
  },
  {
   "cell_type": "code",
   "execution_count": 40,
   "metadata": {},
   "outputs": [
    {
     "data": {
      "text/html": [
       "<div>\n",
       "<style scoped>\n",
       "    .dataframe tbody tr th:only-of-type {\n",
       "        vertical-align: middle;\n",
       "    }\n",
       "\n",
       "    .dataframe tbody tr th {\n",
       "        vertical-align: top;\n",
       "    }\n",
       "\n",
       "    .dataframe thead th {\n",
       "        text-align: right;\n",
       "    }\n",
       "</style>\n",
       "<table border=\"1\" class=\"dataframe\">\n",
       "  <thead>\n",
       "    <tr style=\"text-align: right;\">\n",
       "      <th></th>\n",
       "      <th>index</th>\n",
       "      <th>Cluster</th>\n",
       "    </tr>\n",
       "  </thead>\n",
       "  <tbody>\n",
       "    <tr>\n",
       "      <th>0</th>\n",
       "      <td>0</td>\n",
       "      <td>2</td>\n",
       "    </tr>\n",
       "    <tr>\n",
       "      <th>1</th>\n",
       "      <td>1</td>\n",
       "      <td>2</td>\n",
       "    </tr>\n",
       "    <tr>\n",
       "      <th>2</th>\n",
       "      <td>2</td>\n",
       "      <td>2</td>\n",
       "    </tr>\n",
       "    <tr>\n",
       "      <th>3</th>\n",
       "      <td>3</td>\n",
       "      <td>2</td>\n",
       "    </tr>\n",
       "    <tr>\n",
       "      <th>4</th>\n",
       "      <td>4</td>\n",
       "      <td>2</td>\n",
       "    </tr>\n",
       "    <tr>\n",
       "      <th>...</th>\n",
       "      <td>...</td>\n",
       "      <td>...</td>\n",
       "    </tr>\n",
       "    <tr>\n",
       "      <th>5797</th>\n",
       "      <td>5797</td>\n",
       "      <td>0</td>\n",
       "    </tr>\n",
       "    <tr>\n",
       "      <th>5798</th>\n",
       "      <td>5798</td>\n",
       "      <td>0</td>\n",
       "    </tr>\n",
       "    <tr>\n",
       "      <th>5799</th>\n",
       "      <td>5799</td>\n",
       "      <td>0</td>\n",
       "    </tr>\n",
       "    <tr>\n",
       "      <th>5800</th>\n",
       "      <td>5800</td>\n",
       "      <td>0</td>\n",
       "    </tr>\n",
       "    <tr>\n",
       "      <th>5801</th>\n",
       "      <td>5801</td>\n",
       "      <td>0</td>\n",
       "    </tr>\n",
       "  </tbody>\n",
       "</table>\n",
       "<p>5802 rows × 2 columns</p>\n",
       "</div>"
      ],
      "text/plain": [
       "      index  Cluster\n",
       "0         0        2\n",
       "1         1        2\n",
       "2         2        2\n",
       "3         3        2\n",
       "4         4        2\n",
       "...     ...      ...\n",
       "5797   5797        0\n",
       "5798   5798        0\n",
       "5799   5799        0\n",
       "5800   5800        0\n",
       "5801   5801        0\n",
       "\n",
       "[5802 rows x 2 columns]"
      ]
     },
     "execution_count": 40,
     "metadata": {},
     "output_type": "execute_result"
    }
   ],
   "source": [
    "best_sample.rename(columns={0:'Cluster'}, inplace=True)\n",
    "best_sample"
   ]
  },
  {
   "cell_type": "code",
   "execution_count": 41,
   "metadata": {},
   "outputs": [
    {
     "data": {
      "text/html": [
       "<div>\n",
       "<style scoped>\n",
       "    .dataframe tbody tr th:only-of-type {\n",
       "        vertical-align: middle;\n",
       "    }\n",
       "\n",
       "    .dataframe tbody tr th {\n",
       "        vertical-align: top;\n",
       "    }\n",
       "\n",
       "    .dataframe thead th {\n",
       "        text-align: right;\n",
       "    }\n",
       "</style>\n",
       "<table border=\"1\" class=\"dataframe\">\n",
       "  <thead>\n",
       "    <tr style=\"text-align: right;\">\n",
       "      <th></th>\n",
       "      <th>index</th>\n",
       "      <th>dmileage</th>\n",
       "      <th>long_dist</th>\n",
       "      <th>gascost</th>\n",
       "      <th>Cluster</th>\n",
       "    </tr>\n",
       "  </thead>\n",
       "  <tbody>\n",
       "    <tr>\n",
       "      <th>0</th>\n",
       "      <td>0</td>\n",
       "      <td>25</td>\n",
       "      <td>1</td>\n",
       "      <td>1</td>\n",
       "      <td>2</td>\n",
       "    </tr>\n",
       "    <tr>\n",
       "      <th>1</th>\n",
       "      <td>1</td>\n",
       "      <td>25</td>\n",
       "      <td>1</td>\n",
       "      <td>1</td>\n",
       "      <td>2</td>\n",
       "    </tr>\n",
       "    <tr>\n",
       "      <th>2</th>\n",
       "      <td>2</td>\n",
       "      <td>25</td>\n",
       "      <td>1</td>\n",
       "      <td>1</td>\n",
       "      <td>2</td>\n",
       "    </tr>\n",
       "    <tr>\n",
       "      <th>3</th>\n",
       "      <td>3</td>\n",
       "      <td>25</td>\n",
       "      <td>1</td>\n",
       "      <td>1</td>\n",
       "      <td>2</td>\n",
       "    </tr>\n",
       "    <tr>\n",
       "      <th>4</th>\n",
       "      <td>4</td>\n",
       "      <td>25</td>\n",
       "      <td>1</td>\n",
       "      <td>1</td>\n",
       "      <td>2</td>\n",
       "    </tr>\n",
       "    <tr>\n",
       "      <th>...</th>\n",
       "      <td>...</td>\n",
       "      <td>...</td>\n",
       "      <td>...</td>\n",
       "      <td>...</td>\n",
       "      <td>...</td>\n",
       "    </tr>\n",
       "    <tr>\n",
       "      <th>5797</th>\n",
       "      <td>5797</td>\n",
       "      <td>10</td>\n",
       "      <td>0</td>\n",
       "      <td>1</td>\n",
       "      <td>0</td>\n",
       "    </tr>\n",
       "    <tr>\n",
       "      <th>5798</th>\n",
       "      <td>5798</td>\n",
       "      <td>10</td>\n",
       "      <td>0</td>\n",
       "      <td>1</td>\n",
       "      <td>0</td>\n",
       "    </tr>\n",
       "    <tr>\n",
       "      <th>5799</th>\n",
       "      <td>5799</td>\n",
       "      <td>10</td>\n",
       "      <td>0</td>\n",
       "      <td>1</td>\n",
       "      <td>0</td>\n",
       "    </tr>\n",
       "    <tr>\n",
       "      <th>5800</th>\n",
       "      <td>5800</td>\n",
       "      <td>10</td>\n",
       "      <td>0</td>\n",
       "      <td>1</td>\n",
       "      <td>0</td>\n",
       "    </tr>\n",
       "    <tr>\n",
       "      <th>5801</th>\n",
       "      <td>5801</td>\n",
       "      <td>10</td>\n",
       "      <td>0</td>\n",
       "      <td>1</td>\n",
       "      <td>0</td>\n",
       "    </tr>\n",
       "  </tbody>\n",
       "</table>\n",
       "<p>5802 rows × 5 columns</p>\n",
       "</div>"
      ],
      "text/plain": [
       "      index  dmileage  long_dist  gascost  Cluster\n",
       "0         0        25          1        1        2\n",
       "1         1        25          1        1        2\n",
       "2         2        25          1        1        2\n",
       "3         3        25          1        1        2\n",
       "4         4        25          1        1        2\n",
       "...     ...       ...        ...      ...      ...\n",
       "5797   5797        10          0        1        0\n",
       "5798   5798        10          0        1        0\n",
       "5799   5799        10          0        1        0\n",
       "5800   5800        10          0        1        0\n",
       "5801   5801        10          0        1        0\n",
       "\n",
       "[5802 rows x 5 columns]"
      ]
     },
     "execution_count": 41,
     "metadata": {},
     "output_type": "execute_result"
    }
   ],
   "source": [
    "merged_df = pd.merge(selected_df.reset_index(), best_sample)\n",
    "merged_df"
   ]
  },
  {
   "cell_type": "code",
   "execution_count": 61,
   "metadata": {},
   "outputs": [
    {
     "name": "stderr",
     "output_type": "stream",
     "text": [
      "C:\\Users\\Wooja\\Anaconda3\\lib\\site-packages\\seaborn\\distributions.py:369: UserWarning: Default bandwidth for data is 0; skipping density estimation.\n",
      "  warnings.warn(msg, UserWarning)\n",
      "C:\\Users\\Wooja\\Anaconda3\\lib\\site-packages\\seaborn\\distributions.py:369: UserWarning: Default bandwidth for data is 0; skipping density estimation.\n",
      "  warnings.warn(msg, UserWarning)\n",
      "C:\\Users\\Wooja\\Anaconda3\\lib\\site-packages\\seaborn\\distributions.py:369: UserWarning: Default bandwidth for data is 0; skipping density estimation.\n",
      "  warnings.warn(msg, UserWarning)\n"
     ]
    },
    {
     "data": {
      "text/plain": [
       "<matplotlib.axes._subplots.AxesSubplot at 0x1ffe6bbc610>"
      ]
     },
     "execution_count": 61,
     "metadata": {},
     "output_type": "execute_result"
    },
    {
     "data": {
      "image/png": "[encoded data removed]",
      "text/plain": [
       "<Figure size 1296x1296 with 9 Axes>"
      ]
     },
     "metadata": {
      "needs_background": "light"
     },
     "output_type": "display_data"
    }
   ],
   "source": [
    "fig, axes = plt.subplots(3,3, figsize=(18,18))\n",
    "\n",
    "fig.suptitle('Cluster Characteristics')\n",
    "\n",
    "axes[0,0].set_title('Cluster 0')\n",
    "axes[0,1].set_title('Cluster 1')\n",
    "axes[0,2].set_title('Cluster 2')\n",
    "\n",
    "sns.distplot(merged_df[merged_df.Cluster==0]['dmileage'],ax=axes[0,0])\n",
    "sns.distplot(merged_df[merged_df.Cluster==1]['dmileage'],ax=axes[0,1])\n",
    "sns.distplot(merged_df[merged_df.Cluster==2]['dmileage'],ax=axes[0,2])\n",
    "\n",
    "sns.distplot(merged_df[merged_df.Cluster==0]['long_dist'],ax=axes[1,0])\n",
    "sns.distplot(merged_df[merged_df.Cluster==1]['long_dist'],ax=axes[1,1])\n",
    "sns.distplot(merged_df[merged_df.Cluster==2]['long_dist'],ax=axes[1,2])\n",
    "\n",
    "sns.distplot(merged_df[merged_df.Cluster==0]['gascost'],ax=axes[2,0])\n",
    "sns.distplot(merged_df[merged_df.Cluster==1]['gascost'],ax=axes[2,1])\n",
    "sns.distplot(merged_df[merged_df.Cluster==2]['gascost'],ax=axes[2,2])"
   ]
  },
  {
   "cell_type": "code",
   "execution_count": 62,
   "metadata": {},
   "outputs": [],
   "source": [
    "# Charging Infra \n",
    "charge = df[['home_chg','work_chg','fasttime','town','highway','home_evse','work_evse']]"
   ]
  },
  {
   "cell_type": "code",
   "execution_count": 63,
   "metadata": {},
   "outputs": [
    {
     "name": "stdout",
     "output_type": "stream",
     "text": [
      "Feature 0: 218.338532\n",
      "Feature 1: 164.032770\n",
      "Feature 2: 53.448149\n",
      "Feature 3: 32.417214\n",
      "Feature 4: 0.218315\n",
      "Feature 5: 0.249262\n",
      "Feature 6: 2.721200\n"
     ]
    },
    {
     "data": {
      "image/png": "[encoded data removed]",
      "text/plain": [
       "<Figure size 432x288 with 1 Axes>"
      ]
     },
     "metadata": {
      "needs_background": "light"
     },
     "output_type": "display_data"
    }
   ],
   "source": [
    "selectK(charge,df['bichoice'])"
   ]
  },
  {
   "cell_type": "code",
   "execution_count": 64,
   "metadata": {},
   "outputs": [],
   "source": [
    "#feature score computing\n",
    "fs = select_features(charge, df['bichoice'])"
   ]
  },
  {
   "cell_type": "code",
   "execution_count": 65,
   "metadata": {},
   "outputs": [
    {
     "name": "stdout",
     "output_type": "stream",
     "text": [
      "Top5 Feature:home_chg,218.33853219850442\n",
      "Top5 Feature:work_chg,164.03277039292513\n",
      "Top5 Feature:fasttime,53.448148699369554\n",
      "Top5 Feature:town,32.41721394263621\n",
      "Top5 Feature:work_evse,2.721199873551096\n"
     ]
    },
    {
     "data": {
      "text/html": [
       "<div>\n",
       "<style scoped>\n",
       "    .dataframe tbody tr th:only-of-type {\n",
       "        vertical-align: middle;\n",
       "    }\n",
       "\n",
       "    .dataframe tbody tr th {\n",
       "        vertical-align: top;\n",
       "    }\n",
       "\n",
       "    .dataframe thead th {\n",
       "        text-align: right;\n",
       "    }\n",
       "</style>\n",
       "<table border=\"1\" class=\"dataframe\">\n",
       "  <thead>\n",
       "    <tr style=\"text-align: right;\">\n",
       "      <th></th>\n",
       "      <th>home_chg</th>\n",
       "      <th>work_chg</th>\n",
       "      <th>fasttime</th>\n",
       "      <th>town</th>\n",
       "      <th>work_evse</th>\n",
       "    </tr>\n",
       "  </thead>\n",
       "  <tbody>\n",
       "    <tr>\n",
       "      <th>0</th>\n",
       "      <td>0</td>\n",
       "      <td>0</td>\n",
       "      <td>15</td>\n",
       "      <td>2</td>\n",
       "      <td>2</td>\n",
       "    </tr>\n",
       "    <tr>\n",
       "      <th>1</th>\n",
       "      <td>20</td>\n",
       "      <td>3</td>\n",
       "      <td>15</td>\n",
       "      <td>3</td>\n",
       "      <td>2</td>\n",
       "    </tr>\n",
       "    <tr>\n",
       "      <th>2</th>\n",
       "      <td>0</td>\n",
       "      <td>10</td>\n",
       "      <td>30</td>\n",
       "      <td>3</td>\n",
       "      <td>2</td>\n",
       "    </tr>\n",
       "    <tr>\n",
       "      <th>3</th>\n",
       "      <td>0</td>\n",
       "      <td>10</td>\n",
       "      <td>5</td>\n",
       "      <td>3</td>\n",
       "      <td>2</td>\n",
       "    </tr>\n",
       "    <tr>\n",
       "      <th>4</th>\n",
       "      <td>20</td>\n",
       "      <td>20</td>\n",
       "      <td>30</td>\n",
       "      <td>3</td>\n",
       "      <td>2</td>\n",
       "    </tr>\n",
       "  </tbody>\n",
       "</table>\n",
       "</div>"
      ],
      "text/plain": [
       "   home_chg  work_chg  fasttime  town  work_evse\n",
       "0         0         0        15     2          2\n",
       "1        20         3        15     3          2\n",
       "2         0        10        30     3          2\n",
       "3         0        10         5     3          2\n",
       "4        20        20        30     3          2"
      ]
     },
     "execution_count": 65,
     "metadata": {},
     "output_type": "execute_result"
    }
   ],
   "source": [
    "selected_df = top5_features(fs, charge)\n",
    "#Resulting dataframe\n",
    "selected_df.head()"
   ]
  },
  {
   "cell_type": "code",
   "execution_count": 66,
   "metadata": {},
   "outputs": [
    {
     "data": {
      "image/png": "[encoded data removed]",
      "text/plain": [
       "<Figure size 432x288 with 1 Axes>"
      ]
     },
     "metadata": {
      "needs_background": "light"
     },
     "output_type": "display_data"
    }
   ],
   "source": [
    "#Elbow Curve function \n",
    "k_mode(charge, 6)"
   ]
  },
  {
   "cell_type": "code",
   "execution_count": 67,
   "metadata": {},
   "outputs": [],
   "source": [
    "#Input to the function: Dataset, number of k selected\n",
    "km = k_mode_compute__(charge, 3)"
   ]
  },
  {
   "cell_type": "code",
   "execution_count": 68,
   "metadata": {},
   "outputs": [],
   "source": [
    "# Monte Carlo Simulation (Running 100 Times)\n",
    "freq, sample, sim_result = simulation(input_dataframe=selected_df, num_k=3, num_iteration=100)"
   ]
  },
  {
   "cell_type": "code",
   "execution_count": 69,
   "metadata": {},
   "outputs": [
    {
     "data": {
      "text/plain": [
       "(<matplotlib.axes._subplots.AxesSubplot at 0x1ffe06b7190>,\n",
       " <matplotlib.axes._subplots.AxesSubplot at 0x1ffe06b7190>)"
      ]
     },
     "execution_count": 69,
     "metadata": {},
     "output_type": "execute_result"
    },
    {
     "data": {
      "image/png": "[encoded data removed]",
      "text/plain": [
       "<Figure size 432x288 with 1 Axes>"
      ]
     },
     "metadata": {
      "needs_background": "light"
     },
     "output_type": "display_data"
    }
   ],
   "source": [
    "monte_carlo_vis(sim_result,0)"
   ]
  },
  {
   "cell_type": "code",
   "execution_count": 70,
   "metadata": {},
   "outputs": [
    {
     "data": {
      "text/plain": [
       "0    2885\n",
       "1    1744\n",
       "2    1173\n",
       "Name: 0, dtype: int64"
      ]
     },
     "execution_count": 70,
     "metadata": {},
     "output_type": "execute_result"
    }
   ],
   "source": [
    "best_val, best_sample = optimal_cluster(sim_result, sample)\n",
    "best_val"
   ]
  },
  {
   "cell_type": "code",
   "execution_count": 71,
   "metadata": {},
   "outputs": [
    {
     "data": {
      "text/html": [
       "<div>\n",
       "<style scoped>\n",
       "    .dataframe tbody tr th:only-of-type {\n",
       "        vertical-align: middle;\n",
       "    }\n",
       "\n",
       "    .dataframe tbody tr th {\n",
       "        vertical-align: top;\n",
       "    }\n",
       "\n",
       "    .dataframe thead th {\n",
       "        text-align: right;\n",
       "    }\n",
       "</style>\n",
       "<table border=\"1\" class=\"dataframe\">\n",
       "  <thead>\n",
       "    <tr style=\"text-align: right;\">\n",
       "      <th></th>\n",
       "      <th>index</th>\n",
       "      <th>Cluster</th>\n",
       "    </tr>\n",
       "  </thead>\n",
       "  <tbody>\n",
       "    <tr>\n",
       "      <th>0</th>\n",
       "      <td>0</td>\n",
       "      <td>1</td>\n",
       "    </tr>\n",
       "    <tr>\n",
       "      <th>1</th>\n",
       "      <td>1</td>\n",
       "      <td>1</td>\n",
       "    </tr>\n",
       "    <tr>\n",
       "      <th>2</th>\n",
       "      <td>2</td>\n",
       "      <td>1</td>\n",
       "    </tr>\n",
       "    <tr>\n",
       "      <th>3</th>\n",
       "      <td>3</td>\n",
       "      <td>1</td>\n",
       "    </tr>\n",
       "    <tr>\n",
       "      <th>4</th>\n",
       "      <td>4</td>\n",
       "      <td>0</td>\n",
       "    </tr>\n",
       "    <tr>\n",
       "      <th>...</th>\n",
       "      <td>...</td>\n",
       "      <td>...</td>\n",
       "    </tr>\n",
       "    <tr>\n",
       "      <th>5797</th>\n",
       "      <td>5797</td>\n",
       "      <td>2</td>\n",
       "    </tr>\n",
       "    <tr>\n",
       "      <th>5798</th>\n",
       "      <td>5798</td>\n",
       "      <td>1</td>\n",
       "    </tr>\n",
       "    <tr>\n",
       "      <th>5799</th>\n",
       "      <td>5799</td>\n",
       "      <td>0</td>\n",
       "    </tr>\n",
       "    <tr>\n",
       "      <th>5800</th>\n",
       "      <td>5800</td>\n",
       "      <td>0</td>\n",
       "    </tr>\n",
       "    <tr>\n",
       "      <th>5801</th>\n",
       "      <td>5801</td>\n",
       "      <td>1</td>\n",
       "    </tr>\n",
       "  </tbody>\n",
       "</table>\n",
       "<p>5802 rows × 2 columns</p>\n",
       "</div>"
      ],
      "text/plain": [
       "      index  Cluster\n",
       "0         0        1\n",
       "1         1        1\n",
       "2         2        1\n",
       "3         3        1\n",
       "4         4        0\n",
       "...     ...      ...\n",
       "5797   5797        2\n",
       "5798   5798        1\n",
       "5799   5799        0\n",
       "5800   5800        0\n",
       "5801   5801        1\n",
       "\n",
       "[5802 rows x 2 columns]"
      ]
     },
     "execution_count": 71,
     "metadata": {},
     "output_type": "execute_result"
    }
   ],
   "source": [
    "best_sample.rename(columns={0:'Cluster'}, inplace=True)\n",
    "best_sample"
   ]
  },
  {
   "cell_type": "code",
   "execution_count": 72,
   "metadata": {},
   "outputs": [
    {
     "data": {
      "text/html": [
       "<div>\n",
       "<style scoped>\n",
       "    .dataframe tbody tr th:only-of-type {\n",
       "        vertical-align: middle;\n",
       "    }\n",
       "\n",
       "    .dataframe tbody tr th {\n",
       "        vertical-align: top;\n",
       "    }\n",
       "\n",
       "    .dataframe thead th {\n",
       "        text-align: right;\n",
       "    }\n",
       "</style>\n",
       "<table border=\"1\" class=\"dataframe\">\n",
       "  <thead>\n",
       "    <tr style=\"text-align: right;\">\n",
       "      <th></th>\n",
       "      <th>index</th>\n",
       "      <th>home_chg</th>\n",
       "      <th>work_chg</th>\n",
       "      <th>fasttime</th>\n",
       "      <th>town</th>\n",
       "      <th>work_evse</th>\n",
       "      <th>Cluster</th>\n",
       "    </tr>\n",
       "  </thead>\n",
       "  <tbody>\n",
       "    <tr>\n",
       "      <th>0</th>\n",
       "      <td>0</td>\n",
       "      <td>0</td>\n",
       "      <td>0</td>\n",
       "      <td>15</td>\n",
       "      <td>2</td>\n",
       "      <td>2</td>\n",
       "      <td>1</td>\n",
       "    </tr>\n",
       "    <tr>\n",
       "      <th>1</th>\n",
       "      <td>1</td>\n",
       "      <td>20</td>\n",
       "      <td>3</td>\n",
       "      <td>15</td>\n",
       "      <td>3</td>\n",
       "      <td>2</td>\n",
       "      <td>1</td>\n",
       "    </tr>\n",
       "    <tr>\n",
       "      <th>2</th>\n",
       "      <td>2</td>\n",
       "      <td>0</td>\n",
       "      <td>10</td>\n",
       "      <td>30</td>\n",
       "      <td>3</td>\n",
       "      <td>2</td>\n",
       "      <td>1</td>\n",
       "    </tr>\n",
       "    <tr>\n",
       "      <th>3</th>\n",
       "      <td>3</td>\n",
       "      <td>0</td>\n",
       "      <td>10</td>\n",
       "      <td>5</td>\n",
       "      <td>3</td>\n",
       "      <td>2</td>\n",
       "      <td>1</td>\n",
       "    </tr>\n",
       "    <tr>\n",
       "      <th>4</th>\n",
       "      <td>4</td>\n",
       "      <td>20</td>\n",
       "      <td>20</td>\n",
       "      <td>30</td>\n",
       "      <td>3</td>\n",
       "      <td>2</td>\n",
       "      <td>0</td>\n",
       "    </tr>\n",
       "    <tr>\n",
       "      <th>...</th>\n",
       "      <td>...</td>\n",
       "      <td>...</td>\n",
       "      <td>...</td>\n",
       "      <td>...</td>\n",
       "      <td>...</td>\n",
       "      <td>...</td>\n",
       "      <td>...</td>\n",
       "    </tr>\n",
       "    <tr>\n",
       "      <th>5797</th>\n",
       "      <td>5797</td>\n",
       "      <td>1</td>\n",
       "      <td>3</td>\n",
       "      <td>30</td>\n",
       "      <td>1</td>\n",
       "      <td>2</td>\n",
       "      <td>2</td>\n",
       "    </tr>\n",
       "    <tr>\n",
       "      <th>5798</th>\n",
       "      <td>5798</td>\n",
       "      <td>0</td>\n",
       "      <td>1</td>\n",
       "      <td>15</td>\n",
       "      <td>3</td>\n",
       "      <td>2</td>\n",
       "      <td>1</td>\n",
       "    </tr>\n",
       "    <tr>\n",
       "      <th>5799</th>\n",
       "      <td>5799</td>\n",
       "      <td>20</td>\n",
       "      <td>5</td>\n",
       "      <td>15</td>\n",
       "      <td>1</td>\n",
       "      <td>2</td>\n",
       "      <td>0</td>\n",
       "    </tr>\n",
       "    <tr>\n",
       "      <th>5800</th>\n",
       "      <td>5800</td>\n",
       "      <td>10</td>\n",
       "      <td>10</td>\n",
       "      <td>5</td>\n",
       "      <td>4</td>\n",
       "      <td>2</td>\n",
       "      <td>0</td>\n",
       "    </tr>\n",
       "    <tr>\n",
       "      <th>5801</th>\n",
       "      <td>5801</td>\n",
       "      <td>20</td>\n",
       "      <td>2</td>\n",
       "      <td>5</td>\n",
       "      <td>3</td>\n",
       "      <td>2</td>\n",
       "      <td>1</td>\n",
       "    </tr>\n",
       "  </tbody>\n",
       "</table>\n",
       "<p>5802 rows × 7 columns</p>\n",
       "</div>"
      ],
      "text/plain": [
       "      index  home_chg  work_chg  fasttime  town  work_evse  Cluster\n",
       "0         0         0         0        15     2          2        1\n",
       "1         1        20         3        15     3          2        1\n",
       "2         2         0        10        30     3          2        1\n",
       "3         3         0        10         5     3          2        1\n",
       "4         4        20        20        30     3          2        0\n",
       "...     ...       ...       ...       ...   ...        ...      ...\n",
       "5797   5797         1         3        30     1          2        2\n",
       "5798   5798         0         1        15     3          2        1\n",
       "5799   5799        20         5        15     1          2        0\n",
       "5800   5800        10        10         5     4          2        0\n",
       "5801   5801        20         2         5     3          2        1\n",
       "\n",
       "[5802 rows x 7 columns]"
      ]
     },
     "execution_count": 72,
     "metadata": {},
     "output_type": "execute_result"
    }
   ],
   "source": [
    "merged_df = pd.merge(selected_df.reset_index(), best_sample)\n",
    "merged_df"
   ]
  },
  {
   "cell_type": "code",
   "execution_count": 73,
   "metadata": {},
   "outputs": [
    {
     "name": "stderr",
     "output_type": "stream",
     "text": [
      "C:\\Users\\Wooja\\Anaconda3\\lib\\site-packages\\seaborn\\distributions.py:369: UserWarning: Default bandwidth for data is 0; skipping density estimation.\n",
      "  warnings.warn(msg, UserWarning)\n"
     ]
    },
    {
     "data": {
      "text/plain": [
       "<matplotlib.axes._subplots.AxesSubplot at 0x1ffe1b3e8e0>"
      ]
     },
     "execution_count": 73,
     "metadata": {},
     "output_type": "execute_result"
    },
    {
     "data": {
      "image/png": "[encoded data removed]",
      "text/plain": [
       "<Figure size 1296x1296 with 12 Axes>"
      ]
     },
     "metadata": {
      "needs_background": "light"
     },
     "output_type": "display_data"
    }
   ],
   "source": [
    "fig, axes = plt.subplots(4,3, figsize=(18,18))\n",
    "\n",
    "fig.suptitle('Cluster Characteristics')\n",
    "\n",
    "axes[0,0].set_title('Cluster 0')\n",
    "axes[0,1].set_title('Cluster 1')\n",
    "axes[0,2].set_title('Cluster 2')\n",
    "\n",
    "sns.distplot(merged_df[merged_df.Cluster==0]['home_chg'],ax=axes[0,0])\n",
    "sns.distplot(merged_df[merged_df.Cluster==1]['home_chg'],ax=axes[0,1])\n",
    "sns.distplot(merged_df[merged_df.Cluster==2]['home_chg'],ax=axes[0,2])\n",
    "merged_df\n",
    "sns.distplot(merged_df[merged_df.Cluster==0]['work_chg'],ax=axes[1,0])\n",
    "sns.distplot(merged_df[merged_df.Cluster==1]['work_chg'],ax=axes[1,1])\n",
    "sns.distplot(merged_df[merged_df.Cluster==2]['work_chg'],ax=axes[1,2])\n",
    "\n",
    "sns.distplot(merged_df[merged_df.Cluster==0]['fasttime'],ax=axes[2,0])\n",
    "sns.distplot(merged_df[merged_df.Cluster==1]['fasttime'],ax=axes[2,1])\n",
    "sns.distplot(merged_df[merged_df.Cluster==2]['fasttime'],ax=axes[2,2])\n",
    "merged_df\n",
    "sns.distplot(merged_df[merged_df.Cluster==0]['town'],ax=axes[3,0])\n",
    "sns.distplot(merged_df[merged_df.Cluster==1]['town'],ax=axes[3,1])\n",
    "sns.distplot(merged_df[merged_df.Cluster==2]['town'],ax=axes[3,2])"
   ]
  },
  {
   "cell_type": "code",
   "execution_count": null,
   "metadata": {},
   "outputs": [],
   "source": []
  }
 ],
 "metadata": {
  "kernelspec": {
   "display_name": "Python 3",
   "language": "python",
   "name": "python3"
  },
  "language_info": {
   "codemirror_mode": {
    "name": "ipython",
    "version": 3
   },
   "file_extension": ".py",
   "mimetype": "text/x-python",
   "name": "python",
   "nbconvert_exporter": "python",
   "pygments_lexer": "ipython3",
   "version": "3.8.3"
  }
 },
 "nbformat": 4,
 "nbformat_minor": 4
}
