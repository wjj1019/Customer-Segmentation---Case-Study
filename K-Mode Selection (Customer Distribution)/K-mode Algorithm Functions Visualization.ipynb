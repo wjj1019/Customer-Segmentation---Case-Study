{
 "cells": [
  {
   "cell_type": "code",
   "execution_count": 8,
   "metadata": {},
   "outputs": [],
   "source": [
    "# Data Import\n",
    "df = pd.read_csv('processed.csv')\n",
    "df.drop(['Unnamed: 0'], axis = 1, inplace = True)"
   ]
  },
  {
   "cell_type": "code",
   "execution_count": 10,
   "metadata": {},
   "outputs": [],
   "source": [
    "# Selected Data Columns\n",
    "pi = df[['gender','state_answer','edu','employment','hsincome','hhsize','age','license','housit','residence','move','work_parking','home_park','orphan']]"
   ]
  },
  {
   "cell_type": "code",
   "execution_count": 163,
   "metadata": {},
   "outputs": [
    {
     "name": "stdout",
     "output_type": "stream",
     "text": [
      "Top5 Feature:age,14.83680915210668\n",
      "Top5 Feature:gender,10.45454170093031\n",
      "Top5 Feature:residence,6.635758059212296\n",
      "Top5 Feature:state_answer,5.918132034306655\n",
      "Top5 Feature:work_parking,3.270622784348933\n"
     ]
    }
   ],
   "source": [
    "# Result from Top5_features Function: Returns the Feature: Score\n",
    "selected_df = top5_features(fs, pi)"
   ]
  },
  {
   "cell_type": "code",
   "execution_count": 164,
   "metadata": {},
   "outputs": [
    {
     "data": {
      "text/html": [
       "<div>\n",
       "<style scoped>\n",
       "    .dataframe tbody tr th:only-of-type {\n",
       "        vertical-align: middle;\n",
       "    }\n",
       "\n",
       "    .dataframe tbody tr th {\n",
       "        vertical-align: top;\n",
       "    }\n",
       "\n",
       "    .dataframe thead th {\n",
       "        text-align: right;\n",
       "    }\n",
       "</style>\n",
       "<table border=\"1\" class=\"dataframe\">\n",
       "  <thead>\n",
       "    <tr style=\"text-align: right;\">\n",
       "      <th></th>\n",
       "      <th>age</th>\n",
       "      <th>gender</th>\n",
       "      <th>residence</th>\n",
       "      <th>state_answer</th>\n",
       "      <th>work_parking</th>\n",
       "    </tr>\n",
       "  </thead>\n",
       "  <tbody>\n",
       "    <tr>\n",
       "      <th>0</th>\n",
       "      <td>3</td>\n",
       "      <td>0</td>\n",
       "      <td>5</td>\n",
       "      <td>44</td>\n",
       "      <td>4</td>\n",
       "    </tr>\n",
       "    <tr>\n",
       "      <th>1</th>\n",
       "      <td>3</td>\n",
       "      <td>0</td>\n",
       "      <td>5</td>\n",
       "      <td>44</td>\n",
       "      <td>4</td>\n",
       "    </tr>\n",
       "    <tr>\n",
       "      <th>2</th>\n",
       "      <td>3</td>\n",
       "      <td>0</td>\n",
       "      <td>5</td>\n",
       "      <td>44</td>\n",
       "      <td>4</td>\n",
       "    </tr>\n",
       "    <tr>\n",
       "      <th>3</th>\n",
       "      <td>3</td>\n",
       "      <td>0</td>\n",
       "      <td>5</td>\n",
       "      <td>44</td>\n",
       "      <td>4</td>\n",
       "    </tr>\n",
       "    <tr>\n",
       "      <th>4</th>\n",
       "      <td>3</td>\n",
       "      <td>0</td>\n",
       "      <td>5</td>\n",
       "      <td>44</td>\n",
       "      <td>4</td>\n",
       "    </tr>\n",
       "  </tbody>\n",
       "</table>\n",
       "</div>"
      ],
      "text/plain": [
       "   age  gender  residence  state_answer  work_parking\n",
       "0    3       0          5            44             4\n",
       "1    3       0          5            44             4\n",
       "2    3       0          5            44             4\n",
       "3    3       0          5            44             4\n",
       "4    3       0          5            44             4"
      ]
     },
     "execution_count": 164,
     "metadata": {},
     "output_type": "execute_result"
    }
   ],
   "source": [
    "#Resulting dataframe\n",
    "selected_df.head()"
   ]
  },
  {
   "cell_type": "code",
   "execution_count": 127,
   "metadata": {},
   "outputs": [
    {
     "data": {
      "image/png": "[encoded data removed]",
      "text/plain": [
       "<Figure size 432x288 with 1 Axes>"
      ]
     },
     "metadata": {
      "needs_background": "light"
     },
     "output_type": "display_data"
    }
   ],
   "source": [
    "#Elbow Curve function \n",
    "k_mode(pi, 6)"
   ]
  },
  {
   "cell_type": "code",
   "execution_count": 178,
   "metadata": {},
   "outputs": [],
   "source": [
    "# Monte Carlo Simulation (Running 500 Times)\n",
    "freq, sample, sim_result = simulation(input_dataframe=selected_df, num_k=3, num_iteration=500)"
   ]
  },
  {
   "cell_type": "code",
   "execution_count": 179,
   "metadata": {},
   "outputs": [
    {
     "data": {
      "text/html": [
       "<div>\n",
       "<style scoped>\n",
       "    .dataframe tbody tr th:only-of-type {\n",
       "        vertical-align: middle;\n",
       "    }\n",
       "\n",
       "    .dataframe tbody tr th {\n",
       "        vertical-align: top;\n",
       "    }\n",
       "\n",
       "    .dataframe thead th {\n",
       "        text-align: right;\n",
       "    }\n",
       "</style>\n",
       "<table border=\"1\" class=\"dataframe\">\n",
       "  <thead>\n",
       "    <tr style=\"text-align: right;\">\n",
       "      <th></th>\n",
       "      <th>0_x</th>\n",
       "      <th>0_y</th>\n",
       "      <th>0_x</th>\n",
       "      <th>0_y</th>\n",
       "      <th>0_x</th>\n",
       "      <th>0_y</th>\n",
       "      <th>0_x</th>\n",
       "      <th>0_y</th>\n",
       "      <th>0_x</th>\n",
       "      <th>0_y</th>\n",
       "      <th>...</th>\n",
       "      <th>0_x</th>\n",
       "      <th>0_y</th>\n",
       "      <th>0_x</th>\n",
       "      <th>0_y</th>\n",
       "      <th>0_x</th>\n",
       "      <th>0_y</th>\n",
       "      <th>0_x</th>\n",
       "      <th>0_y</th>\n",
       "      <th>0_x</th>\n",
       "      <th>0_y</th>\n",
       "    </tr>\n",
       "  </thead>\n",
       "  <tbody>\n",
       "    <tr>\n",
       "      <th>0</th>\n",
       "      <td>3480</td>\n",
       "      <td>2562</td>\n",
       "      <td>3390</td>\n",
       "      <td>3678</td>\n",
       "      <td>1458</td>\n",
       "      <td>2748</td>\n",
       "      <td>3018</td>\n",
       "      <td>2376</td>\n",
       "      <td>3810</td>\n",
       "      <td>2184</td>\n",
       "      <td>...</td>\n",
       "      <td>3036</td>\n",
       "      <td>1692</td>\n",
       "      <td>3036</td>\n",
       "      <td>2514</td>\n",
       "      <td>3006</td>\n",
       "      <td>2772</td>\n",
       "      <td>3072</td>\n",
       "      <td>3390</td>\n",
       "      <td>3078</td>\n",
       "      <td>2454</td>\n",
       "    </tr>\n",
       "    <tr>\n",
       "      <th>1</th>\n",
       "      <td>1440</td>\n",
       "      <td>2346</td>\n",
       "      <td>1464</td>\n",
       "      <td>1044</td>\n",
       "      <td>2706</td>\n",
       "      <td>1086</td>\n",
       "      <td>2244</td>\n",
       "      <td>2736</td>\n",
       "      <td>852</td>\n",
       "      <td>2484</td>\n",
       "      <td>...</td>\n",
       "      <td>1740</td>\n",
       "      <td>2430</td>\n",
       "      <td>1740</td>\n",
       "      <td>2442</td>\n",
       "      <td>2160</td>\n",
       "      <td>2490</td>\n",
       "      <td>2100</td>\n",
       "      <td>1464</td>\n",
       "      <td>894</td>\n",
       "      <td>1116</td>\n",
       "    </tr>\n",
       "    <tr>\n",
       "      <th>2</th>\n",
       "      <td>882</td>\n",
       "      <td>894</td>\n",
       "      <td>948</td>\n",
       "      <td>1080</td>\n",
       "      <td>1638</td>\n",
       "      <td>1968</td>\n",
       "      <td>540</td>\n",
       "      <td>690</td>\n",
       "      <td>1140</td>\n",
       "      <td>1134</td>\n",
       "      <td>...</td>\n",
       "      <td>1026</td>\n",
       "      <td>1680</td>\n",
       "      <td>1026</td>\n",
       "      <td>846</td>\n",
       "      <td>636</td>\n",
       "      <td>540</td>\n",
       "      <td>630</td>\n",
       "      <td>948</td>\n",
       "      <td>1830</td>\n",
       "      <td>2232</td>\n",
       "    </tr>\n",
       "  </tbody>\n",
       "</table>\n",
       "<p>3 rows × 500 columns</p>\n",
       "</div>"
      ],
      "text/plain": [
       "    0_x   0_y   0_x   0_y   0_x   0_y   0_x   0_y   0_x   0_y  ...   0_x  \\\n",
       "0  3480  2562  3390  3678  1458  2748  3018  2376  3810  2184  ...  3036   \n",
       "1  1440  2346  1464  1044  2706  1086  2244  2736   852  2484  ...  1740   \n",
       "2   882   894   948  1080  1638  1968   540   690  1140  1134  ...  1026   \n",
       "\n",
       "    0_y   0_x   0_y   0_x   0_y   0_x   0_y   0_x   0_y  \n",
       "0  1692  3036  2514  3006  2772  3072  3390  3078  2454  \n",
       "1  2430  1740  2442  2160  2490  2100  1464   894  1116  \n",
       "2  1680  1026   846   636   540   630   948  1830  2232  \n",
       "\n",
       "[3 rows x 500 columns]"
      ]
     },
     "execution_count": 179,
     "metadata": {},
     "output_type": "execute_result"
    }
   ],
   "source": [
    "#Resulting Data from the Simulation\n",
    "sim_result"
   ]
  },
  {
   "cell_type": "code",
   "execution_count": 377,
   "metadata": {},
   "outputs": [
    {
     "data": {
      "text/plain": [
       "(<matplotlib.axes._subplots.AxesSubplot at 0x1d71d30c640>,\n",
       " <matplotlib.axes._subplots.AxesSubplot at 0x1d71d30c640>)"
      ]
     },
     "execution_count": 377,
     "metadata": {},
     "output_type": "execute_result"
    },
    {
     "data": {
      "image/png": "[encoded data removed]",
      "text/plain": [
       "<Figure size 432x288 with 1 Axes>"
      ]
     },
     "metadata": {
      "needs_background": "light"
     },
     "output_type": "display_data"
    }
   ],
   "source": [
    "#Visualization, Green = Original, Red = Within 1 Standard deviation \n",
    "monte_carlo_vis(sim_result,0)"
   ]
  },
  {
   "cell_type": "code",
   "execution_count": 428,
   "metadata": {},
   "outputs": [],
   "source": [
    "# Seleting the Optimal Clustering by Examining the minimal distance from the mean\n",
    "best_val, best_sample = optimal_cluster(sim_result, sample)"
   ]
  },
  {
   "cell_type": "code",
   "execution_count": 229,
   "metadata": {},
   "outputs": [
    {
     "data": {
      "text/plain": [
       "0    2820\n",
       "1    1842\n",
       "2    1140\n",
       "Name: 0, dtype: int64"
      ]
     },
     "execution_count": 229,
     "metadata": {},
     "output_type": "execute_result"
    }
   ],
   "source": [
    "# Clustering Combination Found out to be the i\n",
    "best_val"
   ]
  },
  {
   "cell_type": "code",
   "execution_count": 230,
   "metadata": {},
   "outputs": [
    {
     "data": {
      "text/html": [
       "<div>\n",
       "<style scoped>\n",
       "    .dataframe tbody tr th:only-of-type {\n",
       "        vertical-align: middle;\n",
       "    }\n",
       "\n",
       "    .dataframe tbody tr th {\n",
       "        vertical-align: top;\n",
       "    }\n",
       "\n",
       "    .dataframe thead th {\n",
       "        text-align: right;\n",
       "    }\n",
       "</style>\n",
       "<table border=\"1\" class=\"dataframe\">\n",
       "  <thead>\n",
       "    <tr style=\"text-align: right;\">\n",
       "      <th></th>\n",
       "      <th>index</th>\n",
       "      <th>0</th>\n",
       "    </tr>\n",
       "  </thead>\n",
       "  <tbody>\n",
       "    <tr>\n",
       "      <th>0</th>\n",
       "      <td>0</td>\n",
       "      <td>1</td>\n",
       "    </tr>\n",
       "    <tr>\n",
       "      <th>1</th>\n",
       "      <td>1</td>\n",
       "      <td>1</td>\n",
       "    </tr>\n",
       "    <tr>\n",
       "      <th>2</th>\n",
       "      <td>2</td>\n",
       "      <td>1</td>\n",
       "    </tr>\n",
       "    <tr>\n",
       "      <th>3</th>\n",
       "      <td>3</td>\n",
       "      <td>1</td>\n",
       "    </tr>\n",
       "    <tr>\n",
       "      <th>4</th>\n",
       "      <td>4</td>\n",
       "      <td>1</td>\n",
       "    </tr>\n",
       "    <tr>\n",
       "      <th>...</th>\n",
       "      <td>...</td>\n",
       "      <td>...</td>\n",
       "    </tr>\n",
       "    <tr>\n",
       "      <th>5797</th>\n",
       "      <td>5797</td>\n",
       "      <td>2</td>\n",
       "    </tr>\n",
       "    <tr>\n",
       "      <th>5798</th>\n",
       "      <td>5798</td>\n",
       "      <td>2</td>\n",
       "    </tr>\n",
       "    <tr>\n",
       "      <th>5799</th>\n",
       "      <td>5799</td>\n",
       "      <td>2</td>\n",
       "    </tr>\n",
       "    <tr>\n",
       "      <th>5800</th>\n",
       "      <td>5800</td>\n",
       "      <td>2</td>\n",
       "    </tr>\n",
       "    <tr>\n",
       "      <th>5801</th>\n",
       "      <td>5801</td>\n",
       "      <td>2</td>\n",
       "    </tr>\n",
       "  </tbody>\n",
       "</table>\n",
       "<p>5802 rows × 2 columns</p>\n",
       "</div>"
      ],
      "text/plain": [
       "      index  0\n",
       "0         0  1\n",
       "1         1  1\n",
       "2         2  1\n",
       "3         3  1\n",
       "4         4  1\n",
       "...     ... ..\n",
       "5797   5797  2\n",
       "5798   5798  2\n",
       "5799   5799  2\n",
       "5800   5800  2\n",
       "5801   5801  2\n",
       "\n",
       "[5802 rows x 2 columns]"
      ]
     },
     "execution_count": 230,
     "metadata": {},
     "output_type": "execute_result"
    }
   ],
   "source": [
    "best_sample"
   ]
  },
  {
   "cell_type": "code",
   "execution_count": null,
   "metadata": {},
   "outputs": [],
   "source": []
  }
 ],
 "metadata": {
  "kernelspec": {
   "display_name": "Python 3",
   "language": "python",
   "name": "python3"
  },
  "language_info": {
   "codemirror_mode": {
    "name": "ipython",
    "version": 3
   },
   "file_extension": ".py",
   "mimetype": "text/x-python",
   "name": "python",
   "nbconvert_exporter": "python",
   "pygments_lexer": "ipython3",
   "version": "3.8.3"
  }
 },
 "nbformat": 4,
 "nbformat_minor": 4
}
